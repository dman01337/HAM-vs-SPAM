{
 "cells": [
  {
   "cell_type": "markdown",
   "metadata": {},
   "source": [
    "# Ham Vs Spam Classification\n",
    "---"
   ]
  },
  {
   "cell_type": "markdown",
   "metadata": {},
   "source": [
    "## List of Imports"
   ]
  },
  {
   "cell_type": "code",
   "execution_count": 346,
   "metadata": {},
   "outputs": [],
   "source": [
    "import pandas as pd\n",
    "import numpy as np\n",
    "import matplotlib.pyplot as plt\n",
    "from matplotlib.ticker import MaxNLocator\n",
    "%matplotlib inline\n",
    "import seaborn as sns\n",
    "from bs4 import BeautifulSoup\n",
    "import os\n",
    "import re\n",
    "from nltk import FreqDist\n",
    "from nltk.tokenize import RegexpTokenizer, word_tokenize\n",
    "from nltk.corpus import stopwords\n",
    "from sklearn.pipeline import Pipeline\n",
    "from sklearn.base import BaseEstimator, TransformerMixin, ClassifierMixin, clone\n",
    "from sklearn.feature_extraction.text import CountVectorizer, TfidfVectorizer\n",
    "from sklearn.model_selection import train_test_split, cross_val_score, GridSearchCV\n",
    "from sklearn.metrics import accuracy_score, classification_report, recall_score, precision_score, f1_score, roc_auc_score\n",
    "from sklearn.metrics import confusion_matrix, ConfusionMatrixDisplay\n",
    "from sklearn.naive_bayes import MultinomialNB, ComplementNB\n",
    "from sklearn.ensemble import RandomForestClassifier\n",
    "from mygraphs import histogram_top_n_words\n",
    "\n"
   ]
  },
  {
   "cell_type": "markdown",
   "metadata": {},
   "source": [
    "## Globals"
   ]
  },
  {
   "cell_type": "code",
   "execution_count": 347,
   "metadata": {},
   "outputs": [],
   "source": [
    "# Globals used throughout the project\n",
    "#==================================================================================================\n",
    "\n",
    "# seaborn darkgrid style\n",
    "sns.set_style('darkgrid')\n",
    "\n",
    "# ignore warnings\n",
    "import warnings\n",
    "warnings.filterwarnings('ignore')\n",
    "\n",
    "# List of email paths to load\n",
    "email_paths = ['Data//easy_ham_1', \n",
    "               'Data//easy_ham_2', \n",
    "               'Data//hard_ham_1', \n",
    "               'Data//hard_ham_2', \n",
    "               'Data//spam_1', \n",
    "               'Data//spam_2']\n",
    "\n",
    "# Regex patterns to match multi-line text block searches\n",
    "block_regex_list = ['^(?!Subject:)[A-Z]\\\\S*:'] # Pattern to match any line that starts with a capital letter followed by a word and a colon\n",
    "\n",
    "# Regex patterns to match whole line searches\n",
    "line_regex_list = [\n",
    "    r'From\\s+.*@.*',                                       \n",
    "    r'[A-Z].*?-.*?:',                                       \n",
    "    r'^[A-Z].*?@.*?:',\n",
    "    r'^--',                     # Pattern to match any line that starts with --\n",
    "    r'^[\\w\\.-]+@[\\w\\.-]+',      # Pattern to match any line that starts with an email address\n",
    "    r'^http',                   # Pattern to match any line that starts with https\n",
    "    r'^.{0,9}http',             # Pattern to match any line that has http within the first 10 characters\n",
    "    r'^\\s*tests=.*',            # Pattern to match any line that starts with any number of whitespace then tests= then anything afterwards\n",
    "    r'^\\s*version=.*',          # Pattern to match any line that starts with any number of whitespace then version=\n",
    "    r'^___.*',                  # Pattern to match any line that starts with ___\n",
    "    r'.*[A-Z]+_[A-Z]+_.*',      # Pattern to match any line that has 3 or more words in all caps separated by _\n",
    "    r'.*============.*',        # Pattern to match any line that has ============ in it\n",
    "    r'.*------------.*'         # Pattern to match any line that has ------------ in it\n",
    "]\n",
    "\n",
    "# Regex patterns to match single expresion searches\n",
    "single_regex_list = ['>', # Pattern to match any line that starts with >\n",
    "                     r'\\[\\d\\]', # Pattern to match any line that has a number in square brackets\n",
    "                     r'[a-zA-Z0-9._%+-]+@[a-zA-Z0-9.-]+\\.[a-zA-Z]{2,}', # Pattern to match any email address\n",
    "                     r'www\\.', # Pattern to match any line that starts with www.\n",
    "                     r'http\\.'\n",
    "]\n",
    "\n"
   ]
  },
  {
   "cell_type": "markdown",
   "metadata": {},
   "source": [
    "## Maximum False-Pos Rate Custom Classifier Class\n",
    "- It is very important to minimize false positives (customers Ham going to their Spam folders and potentially missing important communication)\n",
    "- Due to this business case, we are capping the models at 1% false positive rate\n",
    "- Defined below is a custom classifier class to be used in pipelines to tune the thresholds of the models such that we can target a maximum false positive rate\n",
    "- Additionally, we will be scoring Precision as our main metric, and scoring Accuracy secondarily"
   ]
  },
  {
   "cell_type": "code",
   "execution_count": 397,
   "metadata": {},
   "outputs": [],
   "source": [
    "# Create a custom classifier that adjusts the threshold to achieve a target false positive rate\n",
    "class ThresholdAdjuster(BaseEstimator):\n",
    "    def __init__(self, base_estimator, max_fpr=0.15):\n",
    "        '''\n",
    "        Parameters: base_estimator - a trained model\n",
    "                    max_fpr - the target false positive rate\n",
    "        '''\n",
    "        self.base_estimator = base_estimator\n",
    "        self.max_fpr = max_fpr\n",
    "        self.threshold_calculated = False\n",
    "\n",
    "    def fit(self, X, y):\n",
    "        self.base_estimator.fit(X, y)\n",
    "        if not self.threshold_calculated:\n",
    "            self.adjust_threshold_for_fpr(X, y)\n",
    "        return self\n",
    "    \n",
    "    def predict(self, X):\n",
    "        probabilities = self.base_estimator.predict_proba(X)\n",
    "        return (probabilities[:, 1] > self.threshold).astype(int)\n",
    "    \n",
    "    def predict_proba(self, X):\n",
    "        return self.base_estimator.predict_proba(X)\n",
    "    \n",
    "    def score(self, X, y):\n",
    "        return accuracy_score(y, self.predict(X))\n",
    "        \n",
    "    def adjust_threshold_for_fpr(self, X, y_true, verbose=False):\n",
    "        '''\n",
    "        Parameters: X - a matrix of features\n",
    "                    y_true - the true labels\n",
    "        Returns: None\n",
    "\n",
    "        Adjusts the threshold of the model to achieve a target false positive rate\n",
    "        '''\n",
    "        verbose = True\n",
    "        # get the predicted probabilities\n",
    "        y_test_prob = self.predict_proba(X)[:, 1]\n",
    "        threshold = 0\n",
    "        fpr = 1\n",
    "        # loop until the false positive rate is less than target_fpr\n",
    "        while fpr > self.max_fpr:\n",
    "            # increase the threshold\n",
    "            threshold += 0.001\n",
    "            # get the predicted values\n",
    "            y_pred = (y_test_prob > threshold).astype(int)     \n",
    "            # calculate the false positive rate\n",
    "            cm = confusion_matrix(y_true, y_pred)\n",
    "            fpr = cm[0, 1] / cm[0].sum()\n",
    "        if verbose:\n",
    "            print(f'Threshold: {threshold:.3f}, FPR: {fpr:.3f}')\n",
    "        self.threshold = threshold\n",
    "        self.threshold_calculated = True\n",
    "   "
   ]
  },
  {
   "cell_type": "markdown",
   "metadata": {},
   "source": [
    "## Create a report function to be used on all models\n",
    "- also stores the model names, model and results in a dictionary for final evaluations"
   ]
  },
  {
   "cell_type": "code",
   "execution_count": 370,
   "metadata": {},
   "outputs": [],
   "source": [
    "# define a function to display the results of a model\n",
    "def display_results(model_name, data_name, pipeline, X_train, y_train, X_test, y_test):\n",
    "    '''\n",
    "    Parameters: model_name - the name of the model\n",
    "                pipeline - the trained pipeline\n",
    "                X_train - the training features\n",
    "                y_train - the training labels\n",
    "                X_test - the test features\n",
    "                y_test - the test labels\n",
    "    Returns: None\n",
    "\n",
    "    Displays the results of the model\n",
    "    '''\n",
    "    y_train_pred = pipeline.predict(X_train)\n",
    "    y_test_pred = pipeline.predict(X_test)\n",
    "    train_accuracy = accuracy_score(y_train, y_train_pred)\n",
    "    cv_score = cross_val_score(pipeline, X_train, y_train, cv=5, scoring='accuracy').mean()\n",
    "    accuracy = accuracy_score(y_test, y_test_pred)\n",
    "    precision = precision_score(y_test, y_test_pred)\n",
    "    recall = recall_score(y_test, y_test_pred)\n",
    "    f1 = f1_score(y_test, y_test_pred)\n",
    "    auc = roc_auc_score(y_test, y_test_pred)\n",
    "    model_results[model_name] = {'Data Set': data_name,\n",
    "                                 'Pipeline': pipeline,\n",
    "                                 'Train Accuracy': train_accuracy,\n",
    "                                 'CV Accuracy': cv_score, \n",
    "                                 'Accuracy': accuracy, \n",
    "                                 'Precision': precision, \n",
    "                                 'Recall': recall, \n",
    "                                 'F1': f1, \n",
    "                                 'AUC': auc}\n",
    "    print(f'Model: {model_name}')\n",
    "    print('='*50)\n",
    "    print(f'         Train Accuracy: {train_accuracy:.4f}')\n",
    "    print(f'            CV Accuracy: {cv_score:.4f}')\n",
    "    print(f'               Accuracy: {accuracy:.4f}')\n",
    "    print(f'              Precision: {precision:.4f}')\n",
    "    print(f'                 Recall: {recall:.4f}')\n",
    "    print(f'                     F1: {f1:.4f}')\n",
    "    print(f'                    AUC: {auc:.4f}')\n",
    "    print('='*50)\n",
    "    print(classification_report(y_test, y_test_pred))\n",
    "    cm = confusion_matrix(y_test, y_test_pred)\n",
    "    disp = ConfusionMatrixDisplay(confusion_matrix=cm, display_labels=['ham', 'spam'])\n",
    "    disp.plot()\n",
    "    plt.grid(False)\n",
    "    plt.show()\n",
    "    return\n",
    "\n",
    "# function to Create a dataframe to display the results of all models\n",
    "def display_results_df():\n",
    "    results_df = pd.DataFrame(model_results).T\n",
    "    results_df.drop('Pipeline', axis=1, inplace=True)\n",
    "    results_df.sort_values('Precision', ascending=False, inplace=True)\n",
    "    return results_df\n"
   ]
  },
  {
   "cell_type": "markdown",
   "metadata": {},
   "source": [
    "---"
   ]
  },
  {
   "cell_type": "markdown",
   "metadata": {},
   "source": [
    "## Load in the Email Data from Individual HTML Files"
   ]
  },
  {
   "cell_type": "markdown",
   "metadata": {},
   "source": [
    "### Helper functions used during the importing and initial cleaning of email files"
   ]
  },
  {
   "cell_type": "code",
   "execution_count": 350,
   "metadata": {},
   "outputs": [],
   "source": [
    "def load_emails(path_list):\n",
    "    '''\n",
    "    Parameters: path_list - a list of paths to the email files\n",
    "    Returns: a list of strings, each string is the content of an email file\n",
    "             a list of integers, each integer is the target of an email file\n",
    "                (1 for spam, 0 for not spam)\n",
    "\n",
    "    Load the content of each email file in path_list in HTML format, \n",
    "    and return a list of strings\n",
    "    '''\n",
    "    emails = []\n",
    "    target = []\n",
    "    # loop through all the files in the folder\n",
    "    for path in path_list:\n",
    "        for file in os.listdir(path):\n",
    "            # open the file\n",
    "            with open(path + '//' + file, 'r') as f:\n",
    "                # try to read the file\n",
    "                try:\n",
    "                    data = f.read()\n",
    "                    # check if the email is spam or not\n",
    "                    if 'spam' in path:\n",
    "                        target.append(1)\n",
    "                    else:\n",
    "                        target.append(0)\n",
    "                except UnicodeDecodeError:\n",
    "                    continue\n",
    "                # parse the file\n",
    "                soup = BeautifulSoup(data, 'html.parser')\n",
    "                # extract the text\n",
    "                emails.append(soup.get_text())\n",
    "    return emails, target\n"
   ]
  },
  {
   "cell_type": "code",
   "execution_count": 351,
   "metadata": {},
   "outputs": [],
   "source": [
    "def strip_block(text, keyword_list):\n",
    "    '''\n",
    "    Parameters: text - a string of text\n",
    "                keyword_list - a list of regular expressions\n",
    "    Returns: a string of text with blocks of text removed\n",
    "\n",
    "    Removes a line of from text that starts with keyword and each subsequent line \n",
    "    that starts with whitespace. This is useful for removing email headers.\n",
    "    '''\n",
    "\n",
    "    # initialize a flag to keep track of whether we are inside a block\n",
    "    inside = False\n",
    "    # split the text into lines\n",
    "    lines = text.split('\\n')\n",
    "    # initialize a new list to hold the lines we want to keep\n",
    "    new_lines = []\n",
    "    # loop through the lines\n",
    "    for line in lines:\n",
    "        # check if the matches any keyword or we inside a block\n",
    "        for keyword in keyword_list:\n",
    "            if re.match(keyword, line) or (inside and re.match(r'^\\s+', line)):\n",
    "                inside = True\n",
    "                break\n",
    "            else:   # if we aren't, add it to the new list\n",
    "                new_lines.append(line)\n",
    "                inside = False\n",
    "\n",
    "    # join the new lines together with a newline character\n",
    "    return '\\n'.join(new_lines)\n",
    "\n"
   ]
  },
  {
   "cell_type": "code",
   "execution_count": 352,
   "metadata": {},
   "outputs": [],
   "source": [
    "def strip_line(text, keyword_list):\n",
    "    '''\n",
    "    Parameters: text - a string of text\n",
    "                keyword_list - a list of regular expressions\n",
    "    Returns: a string of text with lines of text removed\n",
    "\n",
    "    Removes lines of from text that contains a keyword anywhere in the line\n",
    "    '''\n",
    "    # Split the text into lines\n",
    "    text = text.split('\\n')\n",
    "    # Remove any lines that contain a keyword\n",
    "    text = [line for line in text if not any(re.match(pattern, line) for pattern in keyword_list)]\n",
    "    # Join the lines back together\n",
    "    text = '\\n'.join(text)\n",
    "    return text"
   ]
  },
  {
   "cell_type": "code",
   "execution_count": 353,
   "metadata": {},
   "outputs": [],
   "source": [
    "def strip_expression(text, keyword_list):\n",
    "    '''\n",
    "    Parameters: text - a string of text\n",
    "                keyword_list - a list of regular expressions\n",
    "    Returns: a string of text with expressions removed\n",
    "\n",
    "    Removes expressions from text that matches the regex patterns in keyword_list\n",
    "    '''\n",
    "\n",
    "\n",
    "    for exp in keyword_list:\n",
    "        # strip the occurance that matches the regex patterns in strip_list\n",
    "        text = re.sub(exp, '', text)\n",
    "    return text"
   ]
  },
  {
   "cell_type": "code",
   "execution_count": 354,
   "metadata": {},
   "outputs": [],
   "source": [
    "def clean_raw_email(text, block_regex_list, line_regex_list, single_regex_list):\n",
    "    '''\n",
    "    Parameters: text - a string of text\n",
    "                block_regex_list - a list of regular expressions\n",
    "                line_regex_list - a list of regular expressions\n",
    "                single_regex_list - a list of regular expressions\n",
    "    Returns: a string of text with blocks, lines and expressions removed\n",
    "\n",
    "    Removes blocks, lines and expressions from text that matches the regex patterns in block_regex_list, line_regex_list and single_regex_list\n",
    "    '''\n",
    "    text = strip_block(text, block_regex_list)\n",
    "    text = strip_line(text, line_regex_list)\n",
    "    text = strip_expression(text, single_regex_list)\n",
    "    return text"
   ]
  },
  {
   "cell_type": "code",
   "execution_count": 355,
   "metadata": {},
   "outputs": [],
   "source": [
    "def pop_subject(text):\n",
    "    '''\n",
    "    Parameters: text - a string of text (email)\n",
    "    Returns: the text with the subject removed as a string\n",
    "              the subject as a string\n",
    "    '''\n",
    "    # split the text into lines\n",
    "    lines = text.split('\\n')\n",
    "    # initialize the subject string (in case we don't find it)\n",
    "    subject = ''\n",
    "    # find the first line that starts with 'Subject:'\n",
    "    for i, line in enumerate(lines):\n",
    "        if line.startswith('Subject:'):\n",
    "            subject = line\n",
    "            break\n",
    "    # remove the subject from the text\n",
    "    text = '\\n'.join(lines[i+1:])\n",
    "    # remove the 'Subject:' from the subject string\n",
    "    subject = subject.replace('Subject:', '')\n",
    "    return text, subject"
   ]
  },
  {
   "cell_type": "code",
   "execution_count": 356,
   "metadata": {},
   "outputs": [],
   "source": [
    "def create_email_df(email_paths):\n",
    "    '''\n",
    "    Parameters: email_paths - a list of paths to the email files\n",
    "    Returns: a DataFrame with the email body, subject and target as columns\n",
    "\n",
    "    Load the content of each email file in email_paths in HTML format,\n",
    "    clean the emails by removing blocks, lines and expressions that match \n",
    "    the regex patterns in block_regex_list, line_regex_list and single_regex_list\n",
    "    and return a DataFrame with the emails and targets in random order\n",
    "    '''\n",
    "    emails, target = load_emails(email_paths)\n",
    "    emails_cleaned = [clean_raw_email(email, block_regex_list, line_regex_list, single_regex_list) for email in emails]\n",
    "    body, subject = [], []\n",
    "    for email in emails_cleaned:\n",
    "        body_, subject_ = pop_subject(email)\n",
    "        body.append(body_)\n",
    "        subject.append(subject_)\n",
    "    body_df = pd.DataFrame(body, columns=['body'])\n",
    "    subject_df = pd.DataFrame(subject, columns=['subject'])\n",
    "    target_df = pd.DataFrame(target, columns=['target'])\n",
    "    raw_df = pd.concat([subject_df, body_df,target_df], axis=1)\n",
    "    raw_df = raw_df.sample(frac=1, random_state=42).reset_index(drop=True)\n",
    "    return raw_df"
   ]
  },
  {
   "cell_type": "markdown",
   "metadata": {},
   "source": [
    "### Load the email data into a dataframe, preliminary EDA and cleaning"
   ]
  },
  {
   "cell_type": "code",
   "execution_count": 357,
   "metadata": {},
   "outputs": [],
   "source": [
    "emails_df = create_email_df(email_paths)"
   ]
  },
  {
   "cell_type": "code",
   "execution_count": 358,
   "metadata": {},
   "outputs": [
    {
     "name": "stdout",
     "output_type": "stream",
     "text": [
      "<class 'pandas.core.frame.DataFrame'>\n",
      "RangeIndex: 5825 entries, 0 to 5824\n",
      "Data columns (total 3 columns):\n",
      " #   Column   Non-Null Count  Dtype \n",
      "---  ------   --------------  ----- \n",
      " 0   subject  5825 non-null   object\n",
      " 1   body     5825 non-null   object\n",
      " 2   target   5825 non-null   int64 \n",
      "dtypes: int64(1), object(2)\n",
      "memory usage: 136.6+ KB\n"
     ]
    }
   ],
   "source": [
    "emails_df.info()"
   ]
  },
  {
   "cell_type": "markdown",
   "metadata": {},
   "source": [
    "ANALYSIS\n",
    "- There are no NaN"
   ]
  },
  {
   "cell_type": "code",
   "execution_count": 359,
   "metadata": {},
   "outputs": [
    {
     "data": {
      "text/plain": [
       "subject    109\n",
       "body       109\n",
       "target     109\n",
       "dtype: int64"
      ]
     },
     "execution_count": 359,
     "metadata": {},
     "output_type": "execute_result"
    }
   ],
   "source": [
    "# Check for emails with empty subject and body\n",
    "emails_df[(emails_df['subject'] == '') & (emails_df['body'] == '')].count()"
   ]
  },
  {
   "cell_type": "markdown",
   "metadata": {},
   "source": [
    "ANALYSIS:\n",
    "- There are 109 rows that have empty strings for both the subject and body, lets get rid of them"
   ]
  },
  {
   "cell_type": "code",
   "execution_count": 360,
   "metadata": {},
   "outputs": [],
   "source": [
    "emails_df = emails_df[(emails_df['subject'] != '') | (emails_df['body'] != '')]\n",
    "# reset the index\n",
    "emails_df = emails_df.reset_index(drop=True)"
   ]
  },
  {
   "cell_type": "code",
   "execution_count": 361,
   "metadata": {},
   "outputs": [
    {
     "data": {
      "image/png": "[encoded data removed]",
      "text/plain": [
       "<Figure size 640x480 with 1 Axes>"
      ]
     },
     "metadata": {},
     "output_type": "display_data"
    }
   ],
   "source": [
    "# Check the target distribution\n",
    "emails_df['target'].value_counts()\n",
    "\n",
    "# create a bargraph of the target distribution\n",
    "emails_df['target'].value_counts().plot(kind='bar')\n",
    "\n",
    "# add title and labels\n",
    "plt.title('Target Distribution')\n",
    "plt.xlabel('Target')\n",
    "plt.ylabel('Count')\n",
    "\n",
    "# add percentages to the bars\n",
    "for i, count in enumerate(emails_df['target'].value_counts()):\n",
    "    plt.text(i, count, f'{count/len(emails_df)*100:.2f}%', ha='center', va='bottom')\n",
    "\n",
    "# show the plot\n",
    "plt.show()"
   ]
  },
  {
   "cell_type": "markdown",
   "metadata": {},
   "source": [
    "ANALYSIS:\n",
    "- The target class distribution is not even, will have to deal with this during modeling"
   ]
  },
  {
   "cell_type": "code",
   "execution_count": 362,
   "metadata": {},
   "outputs": [],
   "source": [
    "# Create separate dataframes for the subject and body so they can be analyzed and modeled separately\n",
    "subject_df = emails_df.drop('body', axis=1)\n",
    "body_df = emails_df.drop('subject', axis=1)"
   ]
  },
  {
   "cell_type": "markdown",
   "metadata": {},
   "source": [
    "---"
   ]
  },
  {
   "cell_type": "markdown",
   "metadata": {},
   "source": [
    "## Email-Subject\n"
   ]
  },
  {
   "cell_type": "markdown",
   "metadata": {},
   "source": [
    "### Cleaning and EDA"
   ]
  },
  {
   "cell_type": "code",
   "execution_count": 363,
   "metadata": {},
   "outputs": [],
   "source": [
    "# Create a copy of the subject dataframe for EDA\n",
    "subject_eda_df = subject_df.copy()\n",
    "\n",
    "# Lowercase the subject column\n",
    "subject_eda_df['subject'] = subject_eda_df['subject'].apply(lambda x: str.lower(x))\n",
    "\n",
    "# Tokenize the subject column\n",
    "tokenizer = RegexpTokenizer(r\"(?u)\\b\\w\\w+\\b\")\n",
    "subject_eda_df['subject_tokenized'] = subject_eda_df['subject'].apply(lambda x: tokenizer.tokenize(x))\n"
   ]
  },
  {
   "cell_type": "code",
   "execution_count": 364,
   "metadata": {},
   "outputs": [
    {
     "data": {
      "image/png": "[encoded data removed]",
      "text/plain": [
       "<Figure size 1500x500 with 2 Axes>"
      ]
     },
     "metadata": {},
     "output_type": "display_data"
    }
   ],
   "source": [
    "# visualize the top 20 words in the subject column for spam and not spam\n",
    "histogram_top_n_words(subject_eda_df, 20, 'target')"
   ]
  },
  {
   "cell_type": "markdown",
   "metadata": {},
   "source": [
    "ANALYSYS:\n",
    "- Very strong signal on 're'; will need to consider removing re to simulate a more realistic spam situation as this might make it too easy\n",
    "- The ham emails seem to be inter-company and many subject lines contain jargon words like spambayes (they were most likely testing thier spam filters), razor, etc.  We should also consider removing these to simulate a more realistic filtering situation in the wild."
   ]
  },
  {
   "cell_type": "code",
   "execution_count": 365,
   "metadata": {},
   "outputs": [],
   "source": [
    "# Remove stopwords and cheating words from the tokenized subject column\n",
    "def remove_stopwords(token_list, stopwords_list):\n",
    "    \"\"\"\n",
    "    Given a list of tokens, return a list where the tokens\n",
    "    that are also present in stopwords_list have been\n",
    "    removed\n",
    "    \"\"\"\n",
    "    return [token for token in token_list if token not in stopwords_list]\n",
    "\n",
    "cheat_words = ['re', 'razor', 'spamassassin', 'spam', 'assassin', 'spambayes', 'satalk', 'ilug', 'zzzzteana']    \n",
    "stop_words = stopwords.words('english')\n",
    "for word in cheat_words:\n",
    "    stop_words.append(word)\n",
    "\n",
    "subject_eda_df['subject_tokenized'] = subject_eda_df['subject_tokenized'].apply(lambda x: remove_stopwords(x, stop_words))\n",
    "               "
   ]
  },
  {
   "cell_type": "code",
   "execution_count": 366,
   "metadata": {},
   "outputs": [
    {
     "data": {
      "image/png": "[encoded data removed]",
      "text/plain": [
       "<Figure size 1500x500 with 2 Axes>"
      ]
     },
     "metadata": {},
     "output_type": "display_data"
    }
   ],
   "source": [
    "# visualize the top 20 words in the subject with stopwords and cheating words removed\n",
    "histogram_top_n_words(subject_eda_df, 20, 'target')"
   ]
  },
  {
   "cell_type": "markdown",
   "metadata": {},
   "source": [
    "ANALYSIS:\n",
    "- Looks a little more realistic. We will run the model with and without 'cheatwords'"
   ]
  },
  {
   "cell_type": "markdown",
   "metadata": {},
   "source": [
    "---"
   ]
  },
  {
   "cell_type": "markdown",
   "metadata": {},
   "source": [
    "## Preprocessing and Modeling"
   ]
  },
  {
   "cell_type": "code",
   "execution_count": 367,
   "metadata": {},
   "outputs": [],
   "source": [
    "# Create our train and test sets\n",
    "X = subject_df['subject']\n",
    "y = subject_df['target']\n",
    "\n",
    "X_train, X_test, y_train, y_test = train_test_split(X, y, test_size=0.2, random_state=42)"
   ]
  },
  {
   "cell_type": "markdown",
   "metadata": {},
   "source": [
    "---\n",
    "### Baseline Model:\n",
    "- Basic tokenizer of >2 characters\n",
    "- Binary vectorizer\n",
    "- Multinomial Bayes Classifier"
   ]
  },
  {
   "cell_type": "code",
   "execution_count": 398,
   "metadata": {},
   "outputs": [
    {
     "name": "stdout",
     "output_type": "stream",
     "text": [
      "Threshold: 0.839, FPR: 0.010\n"
     ]
    },
    {
     "data": {
      "text/html": [
       "<style>#sk-container-id-74 {color: black;}#sk-container-id-74 pre{padding: 0;}#sk-container-id-74 div.sk-toggleable {background-color: white;}#sk-container-id-74 label.sk-toggleable__label {cursor: pointer;display: block;width: 100%;margin-bottom: 0;padding: 0.3em;box-sizing: border-box;text-align: center;}#sk-container-id-74 label.sk-toggleable__label-arrow:before {content: \"▸\";float: left;margin-right: 0.25em;color: #696969;}#sk-container-id-74 label.sk-toggleable__label-arrow:hover:before {color: black;}#sk-container-id-74 div.sk-estimator:hover label.sk-toggleable__label-arrow:before {color: black;}#sk-container-id-74 div.sk-toggleable__content {max-height: 0;max-width: 0;overflow: hidden;text-align: left;background-color: #f0f8ff;}#sk-container-id-74 div.sk-toggleable__content pre {margin: 0.2em;color: black;border-radius: 0.25em;background-color: #f0f8ff;}#sk-container-id-74 input.sk-toggleable__control:checked~div.sk-toggleable__content {max-height: 200px;max-width: 100%;overflow: auto;}#sk-container-id-74 input.sk-toggleable__control:checked~label.sk-toggleable__label-arrow:before {content: \"▾\";}#sk-container-id-74 div.sk-estimator input.sk-toggleable__control:checked~label.sk-toggleable__label {background-color: #d4ebff;}#sk-container-id-74 div.sk-label input.sk-toggleable__control:checked~label.sk-toggleable__label {background-color: #d4ebff;}#sk-container-id-74 input.sk-hidden--visually {border: 0;clip: rect(1px 1px 1px 1px);clip: rect(1px, 1px, 1px, 1px);height: 1px;margin: -1px;overflow: hidden;padding: 0;position: absolute;width: 1px;}#sk-container-id-74 div.sk-estimator {font-family: monospace;background-color: #f0f8ff;border: 1px dotted black;border-radius: 0.25em;box-sizing: border-box;margin-bottom: 0.5em;}#sk-container-id-74 div.sk-estimator:hover {background-color: #d4ebff;}#sk-container-id-74 div.sk-parallel-item::after {content: \"\";width: 100%;border-bottom: 1px solid gray;flex-grow: 1;}#sk-container-id-74 div.sk-label:hover label.sk-toggleable__label {background-color: #d4ebff;}#sk-container-id-74 div.sk-serial::before {content: \"\";position: absolute;border-left: 1px solid gray;box-sizing: border-box;top: 0;bottom: 0;left: 50%;z-index: 0;}#sk-container-id-74 div.sk-serial {display: flex;flex-direction: column;align-items: center;background-color: white;padding-right: 0.2em;padding-left: 0.2em;position: relative;}#sk-container-id-74 div.sk-item {position: relative;z-index: 1;}#sk-container-id-74 div.sk-parallel {display: flex;align-items: stretch;justify-content: center;background-color: white;position: relative;}#sk-container-id-74 div.sk-item::before, #sk-container-id-74 div.sk-parallel-item::before {content: \"\";position: absolute;border-left: 1px solid gray;box-sizing: border-box;top: 0;bottom: 0;left: 50%;z-index: -1;}#sk-container-id-74 div.sk-parallel-item {display: flex;flex-direction: column;z-index: 1;position: relative;background-color: white;}#sk-container-id-74 div.sk-parallel-item:first-child::after {align-self: flex-end;width: 50%;}#sk-container-id-74 div.sk-parallel-item:last-child::after {align-self: flex-start;width: 50%;}#sk-container-id-74 div.sk-parallel-item:only-child::after {width: 0;}#sk-container-id-74 div.sk-dashed-wrapped {border: 1px dashed gray;margin: 0 0.4em 0.5em 0.4em;box-sizing: border-box;padding-bottom: 0.4em;background-color: white;}#sk-container-id-74 div.sk-label label {font-family: monospace;font-weight: bold;display: inline-block;line-height: 1.2em;}#sk-container-id-74 div.sk-label-container {text-align: center;}#sk-container-id-74 div.sk-container {/* jupyter's `normalize.less` sets `[hidden] { display: none; }` but bootstrap.min.css set `[hidden] { display: none !important; }` so we also need the `!important` here to be able to override the default hidden behavior on the sphinx rendered scikit-learn.org. See: https://github.com/scikit-learn/scikit-learn/issues/21755 */display: inline-block !important;position: relative;}#sk-container-id-74 div.sk-text-repr-fallback {display: none;}</style><div id=\"sk-container-id-74\" class=\"sk-top-container\"><div class=\"sk-text-repr-fallback\"><pre>Pipeline(steps=[(&#x27;basic&#x27;,\n",
       "                 CountVectorizer(binary=True, max_features=1000,\n",
       "                                 stop_words=[&#x27;i&#x27;, &#x27;me&#x27;, &#x27;my&#x27;, &#x27;myself&#x27;, &#x27;we&#x27;,\n",
       "                                             &#x27;our&#x27;, &#x27;ours&#x27;, &#x27;ourselves&#x27;, &#x27;you&#x27;,\n",
       "                                             &quot;you&#x27;re&quot;, &quot;you&#x27;ve&quot;, &quot;you&#x27;ll&quot;,\n",
       "                                             &quot;you&#x27;d&quot;, &#x27;your&#x27;, &#x27;yours&#x27;,\n",
       "                                             &#x27;yourself&#x27;, &#x27;yourselves&#x27;, &#x27;he&#x27;,\n",
       "                                             &#x27;him&#x27;, &#x27;his&#x27;, &#x27;himself&#x27;, &#x27;she&#x27;,\n",
       "                                             &quot;she&#x27;s&quot;, &#x27;her&#x27;, &#x27;hers&#x27;, &#x27;herself&#x27;,\n",
       "                                             &#x27;it&#x27;, &quot;it&#x27;s&quot;, &#x27;its&#x27;, &#x27;itself&#x27;, ...],\n",
       "                                 tokenizer=&lt;function baseline_tokenizer at 0x000001B94E3C29D0&gt;)),\n",
       "                (&#x27;clf&#x27;,\n",
       "                 ThresholdAdjuster(base_estimator=MultinomialNB(),\n",
       "                                   max_fpr=0.01))])</pre><b>In a Jupyter environment, please rerun this cell to show the HTML representation or trust the notebook. <br />On GitHub, the HTML representation is unable to render, please try loading this page with nbviewer.org.</b></div><div class=\"sk-container\" hidden><div class=\"sk-item sk-dashed-wrapped\"><div class=\"sk-label-container\"><div class=\"sk-label sk-toggleable\"><input class=\"sk-toggleable__control sk-hidden--visually\" id=\"sk-estimator-id-338\" type=\"checkbox\" ><label for=\"sk-estimator-id-338\" class=\"sk-toggleable__label sk-toggleable__label-arrow\">Pipeline</label><div class=\"sk-toggleable__content\"><pre>Pipeline(steps=[(&#x27;basic&#x27;,\n",
       "                 CountVectorizer(binary=True, max_features=1000,\n",
       "                                 stop_words=[&#x27;i&#x27;, &#x27;me&#x27;, &#x27;my&#x27;, &#x27;myself&#x27;, &#x27;we&#x27;,\n",
       "                                             &#x27;our&#x27;, &#x27;ours&#x27;, &#x27;ourselves&#x27;, &#x27;you&#x27;,\n",
       "                                             &quot;you&#x27;re&quot;, &quot;you&#x27;ve&quot;, &quot;you&#x27;ll&quot;,\n",
       "                                             &quot;you&#x27;d&quot;, &#x27;your&#x27;, &#x27;yours&#x27;,\n",
       "                                             &#x27;yourself&#x27;, &#x27;yourselves&#x27;, &#x27;he&#x27;,\n",
       "                                             &#x27;him&#x27;, &#x27;his&#x27;, &#x27;himself&#x27;, &#x27;she&#x27;,\n",
       "                                             &quot;she&#x27;s&quot;, &#x27;her&#x27;, &#x27;hers&#x27;, &#x27;herself&#x27;,\n",
       "                                             &#x27;it&#x27;, &quot;it&#x27;s&quot;, &#x27;its&#x27;, &#x27;itself&#x27;, ...],\n",
       "                                 tokenizer=&lt;function baseline_tokenizer at 0x000001B94E3C29D0&gt;)),\n",
       "                (&#x27;clf&#x27;,\n",
       "                 ThresholdAdjuster(base_estimator=MultinomialNB(),\n",
       "                                   max_fpr=0.01))])</pre></div></div></div><div class=\"sk-serial\"><div class=\"sk-item\"><div class=\"sk-estimator sk-toggleable\"><input class=\"sk-toggleable__control sk-hidden--visually\" id=\"sk-estimator-id-339\" type=\"checkbox\" ><label for=\"sk-estimator-id-339\" class=\"sk-toggleable__label sk-toggleable__label-arrow\">CountVectorizer</label><div class=\"sk-toggleable__content\"><pre>CountVectorizer(binary=True, max_features=1000,\n",
       "                stop_words=[&#x27;i&#x27;, &#x27;me&#x27;, &#x27;my&#x27;, &#x27;myself&#x27;, &#x27;we&#x27;, &#x27;our&#x27;, &#x27;ours&#x27;,\n",
       "                            &#x27;ourselves&#x27;, &#x27;you&#x27;, &quot;you&#x27;re&quot;, &quot;you&#x27;ve&quot;, &quot;you&#x27;ll&quot;,\n",
       "                            &quot;you&#x27;d&quot;, &#x27;your&#x27;, &#x27;yours&#x27;, &#x27;yourself&#x27;, &#x27;yourselves&#x27;,\n",
       "                            &#x27;he&#x27;, &#x27;him&#x27;, &#x27;his&#x27;, &#x27;himself&#x27;, &#x27;she&#x27;, &quot;she&#x27;s&quot;,\n",
       "                            &#x27;her&#x27;, &#x27;hers&#x27;, &#x27;herself&#x27;, &#x27;it&#x27;, &quot;it&#x27;s&quot;, &#x27;its&#x27;,\n",
       "                            &#x27;itself&#x27;, ...],\n",
       "                tokenizer=&lt;function baseline_tokenizer at 0x000001B94E3C29D0&gt;)</pre></div></div></div><div class=\"sk-item sk-dashed-wrapped\"><div class=\"sk-label-container\"><div class=\"sk-label sk-toggleable\"><input class=\"sk-toggleable__control sk-hidden--visually\" id=\"sk-estimator-id-340\" type=\"checkbox\" ><label for=\"sk-estimator-id-340\" class=\"sk-toggleable__label sk-toggleable__label-arrow\">clf: ThresholdAdjuster</label><div class=\"sk-toggleable__content\"><pre>ThresholdAdjuster(base_estimator=MultinomialNB(), max_fpr=0.01)</pre></div></div></div><div class=\"sk-parallel\"><div class=\"sk-parallel-item\"><div class=\"sk-item\"><div class=\"sk-label-container\"><div class=\"sk-label sk-toggleable\"><input class=\"sk-toggleable__control sk-hidden--visually\" id=\"sk-estimator-id-341\" type=\"checkbox\" ><label for=\"sk-estimator-id-341\" class=\"sk-toggleable__label sk-toggleable__label-arrow\">base_estimator: MultinomialNB</label><div class=\"sk-toggleable__content\"><pre>MultinomialNB()</pre></div></div></div><div class=\"sk-serial\"><div class=\"sk-item\"><div class=\"sk-estimator sk-toggleable\"><input class=\"sk-toggleable__control sk-hidden--visually\" id=\"sk-estimator-id-342\" type=\"checkbox\" ><label for=\"sk-estimator-id-342\" class=\"sk-toggleable__label sk-toggleable__label-arrow\">MultinomialNB</label><div class=\"sk-toggleable__content\"><pre>MultinomialNB()</pre></div></div></div></div></div></div></div></div></div></div></div></div>"
      ],
      "text/plain": [
       "Pipeline(steps=[('basic',\n",
       "                 CountVectorizer(binary=True, max_features=1000,\n",
       "                                 stop_words=['i', 'me', 'my', 'myself', 'we',\n",
       "                                             'our', 'ours', 'ourselves', 'you',\n",
       "                                             \"you're\", \"you've\", \"you'll\",\n",
       "                                             \"you'd\", 'your', 'yours',\n",
       "                                             'yourself', 'yourselves', 'he',\n",
       "                                             'him', 'his', 'himself', 'she',\n",
       "                                             \"she's\", 'her', 'hers', 'herself',\n",
       "                                             'it', \"it's\", 'its', 'itself', ...],\n",
       "                                 tokenizer=<function baseline_tokenizer at 0x000001B94E3C29D0>)),\n",
       "                ('clf',\n",
       "                 ThresholdAdjuster(base_estimator=MultinomialNB(),\n",
       "                                   max_fpr=0.01))])"
      ]
     },
     "execution_count": 398,
     "metadata": {},
     "output_type": "execute_result"
    }
   ],
   "source": [
    "# Create a tokenizer function and a vectorizer pipeline step for basic preprocessing\n",
    "\n",
    "# Define the baseline tokenizer function\n",
    "def baseline_tokenizer(text):\n",
    "    '''\n",
    "    Parameters: text - a string of text\n",
    "    Returns: a list of words that are at least 3 characters long\n",
    "    '''\n",
    "    tokenizer = RegexpTokenizer(r'\\b\\w{3,}\\b')\n",
    "    return tokenizer.tokenize(text)\n",
    "\n",
    "# define the stopwords to use in the vectorizer\n",
    "stop_words = stopwords.words('english')\n",
    "\n",
    "# Create the baseline basic binary CountVectorizer pipeline step tuple\n",
    "step_basic_vec = ('binary_vec', CountVectorizer(max_features=1000,\n",
    "                                           binary=True, \n",
    "                                           stop_words=stop_words, \n",
    "                                           tokenizer=baseline_tokenizer))\n",
    "\n",
    "# Instantiate baseline model and maximum false positive rate = 1%\n",
    "baseline_clf = MultinomialNB(fit_prior=True)\n",
    "step_baseline_model = ('clf', ThresholdAdjuster(baseline_clf, \n",
    "                                                max_fpr=0.01))\n",
    "\n",
    "# Create and fit the pipeline for the baseline model\n",
    "pipe_baseline = Pipeline([step_basic_vec, step_baseline_model])\n",
    "\n",
    "pipe_baseline.fit(X_train, y_train)"
   ]
  },
  {
   "cell_type": "code",
   "execution_count": 399,
   "metadata": {},
   "outputs": [
    {
     "name": "stdout",
     "output_type": "stream",
     "text": [
      "Threshold: 0.807, FPR: 0.010\n",
      "Threshold: 0.819, FPR: 0.009\n",
      "Threshold: 0.871, FPR: 0.009\n",
      "Threshold: 0.827, FPR: 0.009\n",
      "Threshold: 0.809, FPR: 0.009\n",
      "Model: Baseline Model (MultinomialNB)\n",
      "==================================================\n",
      "         Train Accuracy: 0.8898\n",
      "            CV Accuracy: 0.8629\n",
      "               Accuracy: 0.8584\n",
      "              Precision: 0.9208\n",
      "                 Recall: 0.5602\n",
      "                     F1: 0.6966\n",
      "                    AUC: 0.7703\n",
      "==================================================\n",
      "              precision    recall  f1-score   support\n",
      "\n",
      "           0       0.85      0.98      0.91       812\n",
      "           1       0.92      0.56      0.70       332\n",
      "\n",
      "    accuracy                           0.86      1144\n",
      "   macro avg       0.88      0.77      0.80      1144\n",
      "weighted avg       0.87      0.86      0.85      1144\n",
      "\n"
     ]
    },
    {
     "data": {
      "image/png": "[encoded data removed]",
      "text/plain": [
       "<Figure size 640x480 with 2 Axes>"
      ]
     },
     "metadata": {},
     "output_type": "display_data"
    }
   ],
   "source": [
    "model_results = {}\n",
    "display_results('Baseline Model (MultinomialNB)', 'Email-Subject', pipe_baseline, X_train, y_train, X_test, y_test)"
   ]
  },
  {
   "cell_type": "markdown",
   "metadata": {},
   "source": [
    "ANALYSIS:\n",
    "- Pretty good for minimal baseline processing with maximum training FPR=1%; Precision=0.92, Accuracy=0.86\n",
    "- Nearly half of the Spam goes to Ham, but more importantly only 16 (2%) Ham goes to Spam\n",
    "- The baseline accuracy on the test set is better than the training cross-val score, so not overfitted"
   ]
  },
  {
   "cell_type": "markdown",
   "metadata": {},
   "source": [
    "---"
   ]
  },
  {
   "cell_type": "markdown",
   "metadata": {},
   "source": [
    "### ComplementNB Model:\n",
    "- Same preprocessing as the baseline\n",
    "- Complement NB might do better on unbalanced class distribution (we are at 70/30)"
   ]
  },
  {
   "cell_type": "code",
   "execution_count": 400,
   "metadata": {},
   "outputs": [
    {
     "name": "stdout",
     "output_type": "stream",
     "text": [
      "Threshold: 0.926, FPR: 0.010\n"
     ]
    },
    {
     "data": {
      "text/html": [
       "<style>#sk-container-id-75 {color: black;}#sk-container-id-75 pre{padding: 0;}#sk-container-id-75 div.sk-toggleable {background-color: white;}#sk-container-id-75 label.sk-toggleable__label {cursor: pointer;display: block;width: 100%;margin-bottom: 0;padding: 0.3em;box-sizing: border-box;text-align: center;}#sk-container-id-75 label.sk-toggleable__label-arrow:before {content: \"▸\";float: left;margin-right: 0.25em;color: #696969;}#sk-container-id-75 label.sk-toggleable__label-arrow:hover:before {color: black;}#sk-container-id-75 div.sk-estimator:hover label.sk-toggleable__label-arrow:before {color: black;}#sk-container-id-75 div.sk-toggleable__content {max-height: 0;max-width: 0;overflow: hidden;text-align: left;background-color: #f0f8ff;}#sk-container-id-75 div.sk-toggleable__content pre {margin: 0.2em;color: black;border-radius: 0.25em;background-color: #f0f8ff;}#sk-container-id-75 input.sk-toggleable__control:checked~div.sk-toggleable__content {max-height: 200px;max-width: 100%;overflow: auto;}#sk-container-id-75 input.sk-toggleable__control:checked~label.sk-toggleable__label-arrow:before {content: \"▾\";}#sk-container-id-75 div.sk-estimator input.sk-toggleable__control:checked~label.sk-toggleable__label {background-color: #d4ebff;}#sk-container-id-75 div.sk-label input.sk-toggleable__control:checked~label.sk-toggleable__label {background-color: #d4ebff;}#sk-container-id-75 input.sk-hidden--visually {border: 0;clip: rect(1px 1px 1px 1px);clip: rect(1px, 1px, 1px, 1px);height: 1px;margin: -1px;overflow: hidden;padding: 0;position: absolute;width: 1px;}#sk-container-id-75 div.sk-estimator {font-family: monospace;background-color: #f0f8ff;border: 1px dotted black;border-radius: 0.25em;box-sizing: border-box;margin-bottom: 0.5em;}#sk-container-id-75 div.sk-estimator:hover {background-color: #d4ebff;}#sk-container-id-75 div.sk-parallel-item::after {content: \"\";width: 100%;border-bottom: 1px solid gray;flex-grow: 1;}#sk-container-id-75 div.sk-label:hover label.sk-toggleable__label {background-color: #d4ebff;}#sk-container-id-75 div.sk-serial::before {content: \"\";position: absolute;border-left: 1px solid gray;box-sizing: border-box;top: 0;bottom: 0;left: 50%;z-index: 0;}#sk-container-id-75 div.sk-serial {display: flex;flex-direction: column;align-items: center;background-color: white;padding-right: 0.2em;padding-left: 0.2em;position: relative;}#sk-container-id-75 div.sk-item {position: relative;z-index: 1;}#sk-container-id-75 div.sk-parallel {display: flex;align-items: stretch;justify-content: center;background-color: white;position: relative;}#sk-container-id-75 div.sk-item::before, #sk-container-id-75 div.sk-parallel-item::before {content: \"\";position: absolute;border-left: 1px solid gray;box-sizing: border-box;top: 0;bottom: 0;left: 50%;z-index: -1;}#sk-container-id-75 div.sk-parallel-item {display: flex;flex-direction: column;z-index: 1;position: relative;background-color: white;}#sk-container-id-75 div.sk-parallel-item:first-child::after {align-self: flex-end;width: 50%;}#sk-container-id-75 div.sk-parallel-item:last-child::after {align-self: flex-start;width: 50%;}#sk-container-id-75 div.sk-parallel-item:only-child::after {width: 0;}#sk-container-id-75 div.sk-dashed-wrapped {border: 1px dashed gray;margin: 0 0.4em 0.5em 0.4em;box-sizing: border-box;padding-bottom: 0.4em;background-color: white;}#sk-container-id-75 div.sk-label label {font-family: monospace;font-weight: bold;display: inline-block;line-height: 1.2em;}#sk-container-id-75 div.sk-label-container {text-align: center;}#sk-container-id-75 div.sk-container {/* jupyter's `normalize.less` sets `[hidden] { display: none; }` but bootstrap.min.css set `[hidden] { display: none !important; }` so we also need the `!important` here to be able to override the default hidden behavior on the sphinx rendered scikit-learn.org. See: https://github.com/scikit-learn/scikit-learn/issues/21755 */display: inline-block !important;position: relative;}#sk-container-id-75 div.sk-text-repr-fallback {display: none;}</style><div id=\"sk-container-id-75\" class=\"sk-top-container\"><div class=\"sk-text-repr-fallback\"><pre>Pipeline(steps=[(&#x27;basic&#x27;,\n",
       "                 CountVectorizer(binary=True, max_features=1000,\n",
       "                                 stop_words=[&#x27;i&#x27;, &#x27;me&#x27;, &#x27;my&#x27;, &#x27;myself&#x27;, &#x27;we&#x27;,\n",
       "                                             &#x27;our&#x27;, &#x27;ours&#x27;, &#x27;ourselves&#x27;, &#x27;you&#x27;,\n",
       "                                             &quot;you&#x27;re&quot;, &quot;you&#x27;ve&quot;, &quot;you&#x27;ll&quot;,\n",
       "                                             &quot;you&#x27;d&quot;, &#x27;your&#x27;, &#x27;yours&#x27;,\n",
       "                                             &#x27;yourself&#x27;, &#x27;yourselves&#x27;, &#x27;he&#x27;,\n",
       "                                             &#x27;him&#x27;, &#x27;his&#x27;, &#x27;himself&#x27;, &#x27;she&#x27;,\n",
       "                                             &quot;she&#x27;s&quot;, &#x27;her&#x27;, &#x27;hers&#x27;, &#x27;herself&#x27;,\n",
       "                                             &#x27;it&#x27;, &quot;it&#x27;s&quot;, &#x27;its&#x27;, &#x27;itself&#x27;, ...],\n",
       "                                 tokenizer=&lt;function baseline_tokenizer at 0x000001B94E3C29D0&gt;)),\n",
       "                (&#x27;clf&#x27;,\n",
       "                 ThresholdAdjuster(base_estimator=ComplementNB(class_prior=[0.7,\n",
       "                                                                            0.3]),\n",
       "                                   max_fpr=0.01))])</pre><b>In a Jupyter environment, please rerun this cell to show the HTML representation or trust the notebook. <br />On GitHub, the HTML representation is unable to render, please try loading this page with nbviewer.org.</b></div><div class=\"sk-container\" hidden><div class=\"sk-item sk-dashed-wrapped\"><div class=\"sk-label-container\"><div class=\"sk-label sk-toggleable\"><input class=\"sk-toggleable__control sk-hidden--visually\" id=\"sk-estimator-id-343\" type=\"checkbox\" ><label for=\"sk-estimator-id-343\" class=\"sk-toggleable__label sk-toggleable__label-arrow\">Pipeline</label><div class=\"sk-toggleable__content\"><pre>Pipeline(steps=[(&#x27;basic&#x27;,\n",
       "                 CountVectorizer(binary=True, max_features=1000,\n",
       "                                 stop_words=[&#x27;i&#x27;, &#x27;me&#x27;, &#x27;my&#x27;, &#x27;myself&#x27;, &#x27;we&#x27;,\n",
       "                                             &#x27;our&#x27;, &#x27;ours&#x27;, &#x27;ourselves&#x27;, &#x27;you&#x27;,\n",
       "                                             &quot;you&#x27;re&quot;, &quot;you&#x27;ve&quot;, &quot;you&#x27;ll&quot;,\n",
       "                                             &quot;you&#x27;d&quot;, &#x27;your&#x27;, &#x27;yours&#x27;,\n",
       "                                             &#x27;yourself&#x27;, &#x27;yourselves&#x27;, &#x27;he&#x27;,\n",
       "                                             &#x27;him&#x27;, &#x27;his&#x27;, &#x27;himself&#x27;, &#x27;she&#x27;,\n",
       "                                             &quot;she&#x27;s&quot;, &#x27;her&#x27;, &#x27;hers&#x27;, &#x27;herself&#x27;,\n",
       "                                             &#x27;it&#x27;, &quot;it&#x27;s&quot;, &#x27;its&#x27;, &#x27;itself&#x27;, ...],\n",
       "                                 tokenizer=&lt;function baseline_tokenizer at 0x000001B94E3C29D0&gt;)),\n",
       "                (&#x27;clf&#x27;,\n",
       "                 ThresholdAdjuster(base_estimator=ComplementNB(class_prior=[0.7,\n",
       "                                                                            0.3]),\n",
       "                                   max_fpr=0.01))])</pre></div></div></div><div class=\"sk-serial\"><div class=\"sk-item\"><div class=\"sk-estimator sk-toggleable\"><input class=\"sk-toggleable__control sk-hidden--visually\" id=\"sk-estimator-id-344\" type=\"checkbox\" ><label for=\"sk-estimator-id-344\" class=\"sk-toggleable__label sk-toggleable__label-arrow\">CountVectorizer</label><div class=\"sk-toggleable__content\"><pre>CountVectorizer(binary=True, max_features=1000,\n",
       "                stop_words=[&#x27;i&#x27;, &#x27;me&#x27;, &#x27;my&#x27;, &#x27;myself&#x27;, &#x27;we&#x27;, &#x27;our&#x27;, &#x27;ours&#x27;,\n",
       "                            &#x27;ourselves&#x27;, &#x27;you&#x27;, &quot;you&#x27;re&quot;, &quot;you&#x27;ve&quot;, &quot;you&#x27;ll&quot;,\n",
       "                            &quot;you&#x27;d&quot;, &#x27;your&#x27;, &#x27;yours&#x27;, &#x27;yourself&#x27;, &#x27;yourselves&#x27;,\n",
       "                            &#x27;he&#x27;, &#x27;him&#x27;, &#x27;his&#x27;, &#x27;himself&#x27;, &#x27;she&#x27;, &quot;she&#x27;s&quot;,\n",
       "                            &#x27;her&#x27;, &#x27;hers&#x27;, &#x27;herself&#x27;, &#x27;it&#x27;, &quot;it&#x27;s&quot;, &#x27;its&#x27;,\n",
       "                            &#x27;itself&#x27;, ...],\n",
       "                tokenizer=&lt;function baseline_tokenizer at 0x000001B94E3C29D0&gt;)</pre></div></div></div><div class=\"sk-item sk-dashed-wrapped\"><div class=\"sk-label-container\"><div class=\"sk-label sk-toggleable\"><input class=\"sk-toggleable__control sk-hidden--visually\" id=\"sk-estimator-id-345\" type=\"checkbox\" ><label for=\"sk-estimator-id-345\" class=\"sk-toggleable__label sk-toggleable__label-arrow\">clf: ThresholdAdjuster</label><div class=\"sk-toggleable__content\"><pre>ThresholdAdjuster(base_estimator=ComplementNB(class_prior=[0.7, 0.3]),\n",
       "                  max_fpr=0.01)</pre></div></div></div><div class=\"sk-parallel\"><div class=\"sk-parallel-item\"><div class=\"sk-item\"><div class=\"sk-label-container\"><div class=\"sk-label sk-toggleable\"><input class=\"sk-toggleable__control sk-hidden--visually\" id=\"sk-estimator-id-346\" type=\"checkbox\" ><label for=\"sk-estimator-id-346\" class=\"sk-toggleable__label sk-toggleable__label-arrow\">base_estimator: ComplementNB</label><div class=\"sk-toggleable__content\"><pre>ComplementNB(class_prior=[0.7, 0.3])</pre></div></div></div><div class=\"sk-serial\"><div class=\"sk-item\"><div class=\"sk-estimator sk-toggleable\"><input class=\"sk-toggleable__control sk-hidden--visually\" id=\"sk-estimator-id-347\" type=\"checkbox\" ><label for=\"sk-estimator-id-347\" class=\"sk-toggleable__label sk-toggleable__label-arrow\">ComplementNB</label><div class=\"sk-toggleable__content\"><pre>ComplementNB(class_prior=[0.7, 0.3])</pre></div></div></div></div></div></div></div></div></div></div></div></div>"
      ],
      "text/plain": [
       "Pipeline(steps=[('basic',\n",
       "                 CountVectorizer(binary=True, max_features=1000,\n",
       "                                 stop_words=['i', 'me', 'my', 'myself', 'we',\n",
       "                                             'our', 'ours', 'ourselves', 'you',\n",
       "                                             \"you're\", \"you've\", \"you'll\",\n",
       "                                             \"you'd\", 'your', 'yours',\n",
       "                                             'yourself', 'yourselves', 'he',\n",
       "                                             'him', 'his', 'himself', 'she',\n",
       "                                             \"she's\", 'her', 'hers', 'herself',\n",
       "                                             'it', \"it's\", 'its', 'itself', ...],\n",
       "                                 tokenizer=<function baseline_tokenizer at 0x000001B94E3C29D0>)),\n",
       "                ('clf',\n",
       "                 ThresholdAdjuster(base_estimator=ComplementNB(class_prior=[0.7,\n",
       "                                                                            0.3]),\n",
       "                                   max_fpr=0.01))])"
      ]
     },
     "execution_count": 400,
     "metadata": {},
     "output_type": "execute_result"
    }
   ],
   "source": [
    "# Create the ComplementNB model pipeline step tuple\n",
    "class_prior = [0.7, 0.3]\n",
    "compNB_clf = ComplementNB(class_prior=class_prior)\n",
    "\n",
    "step_compNB_clf = ('clf', ThresholdAdjuster(compNB_clf, \n",
    "                                            max_fpr=0.01))\n",
    "\n",
    "# Create and fit the pipeline for the baseline model\n",
    "pipe_combNB_basic = Pipeline([step_basic_vec, step_compNB_clf])\n",
    "\n",
    "pipe_combNB_basic.fit(X_train, y_train)"
   ]
  },
  {
   "cell_type": "code",
   "execution_count": 401,
   "metadata": {},
   "outputs": [
    {
     "name": "stdout",
     "output_type": "stream",
     "text": [
      "Threshold: 0.908, FPR: 0.010\n",
      "Threshold: 0.916, FPR: 0.009\n",
      "Threshold: 0.942, FPR: 0.009\n",
      "Threshold: 0.921, FPR: 0.009\n",
      "Threshold: 0.913, FPR: 0.009\n",
      "Model: ComplementNB Basic\n",
      "==================================================\n",
      "         Train Accuracy: 0.8898\n",
      "            CV Accuracy: 0.8631\n",
      "               Accuracy: 0.8584\n",
      "              Precision: 0.9208\n",
      "                 Recall: 0.5602\n",
      "                     F1: 0.6966\n",
      "                    AUC: 0.7703\n",
      "==================================================\n",
      "              precision    recall  f1-score   support\n",
      "\n",
      "           0       0.85      0.98      0.91       812\n",
      "           1       0.92      0.56      0.70       332\n",
      "\n",
      "    accuracy                           0.86      1144\n",
      "   macro avg       0.88      0.77      0.80      1144\n",
      "weighted avg       0.87      0.86      0.85      1144\n",
      "\n"
     ]
    },
    {
     "data": {
      "image/png": "[encoded data removed]",
      "text/plain": [
       "<Figure size 640x480 with 2 Axes>"
      ]
     },
     "metadata": {},
     "output_type": "display_data"
    }
   ],
   "source": [
    "# Display the results of the ComplementNB model\n",
    "display_results('ComplementNB Basic', 'Email-Subject', pipe_combNB_basic, X_train, y_train, X_test, y_test)"
   ]
  },
  {
   "cell_type": "code",
   "execution_count": 402,
   "metadata": {},
   "outputs": [
    {
     "data": {
      "text/html": [
       "<div>\n",
       "<style scoped>\n",
       "    .dataframe tbody tr th:only-of-type {\n",
       "        vertical-align: middle;\n",
       "    }\n",
       "\n",
       "    .dataframe tbody tr th {\n",
       "        vertical-align: top;\n",
       "    }\n",
       "\n",
       "    .dataframe thead th {\n",
       "        text-align: right;\n",
       "    }\n",
       "</style>\n",
       "<table border=\"1\" class=\"dataframe\">\n",
       "  <thead>\n",
       "    <tr style=\"text-align: right;\">\n",
       "      <th></th>\n",
       "      <th>Data Set</th>\n",
       "      <th>Train Accuracy</th>\n",
       "      <th>CV Accuracy</th>\n",
       "      <th>Accuracy</th>\n",
       "      <th>Precision</th>\n",
       "      <th>Recall</th>\n",
       "      <th>F1</th>\n",
       "      <th>AUC</th>\n",
       "    </tr>\n",
       "  </thead>\n",
       "  <tbody>\n",
       "    <tr>\n",
       "      <th>Baseline Model (MultinomialNB)</th>\n",
       "      <td>Email-Subject</td>\n",
       "      <td>0.889764</td>\n",
       "      <td>0.862857</td>\n",
       "      <td>0.858392</td>\n",
       "      <td>0.920792</td>\n",
       "      <td>0.560241</td>\n",
       "      <td>0.696629</td>\n",
       "      <td>0.770268</td>\n",
       "    </tr>\n",
       "    <tr>\n",
       "      <th>ComplementNB Basic</th>\n",
       "      <td>Email-Subject</td>\n",
       "      <td>0.889764</td>\n",
       "      <td>0.863076</td>\n",
       "      <td>0.858392</td>\n",
       "      <td>0.920792</td>\n",
       "      <td>0.560241</td>\n",
       "      <td>0.696629</td>\n",
       "      <td>0.770268</td>\n",
       "    </tr>\n",
       "  </tbody>\n",
       "</table>\n",
       "</div>"
      ],
      "text/plain": [
       "                                     Data Set Train Accuracy CV Accuracy  \\\n",
       "Baseline Model (MultinomialNB)  Email-Subject       0.889764    0.862857   \n",
       "ComplementNB Basic              Email-Subject       0.889764    0.863076   \n",
       "\n",
       "                                Accuracy Precision    Recall        F1  \\\n",
       "Baseline Model (MultinomialNB)  0.858392  0.920792  0.560241  0.696629   \n",
       "ComplementNB Basic              0.858392  0.920792  0.560241  0.696629   \n",
       "\n",
       "                                     AUC  \n",
       "Baseline Model (MultinomialNB)  0.770268  \n",
       "ComplementNB Basic              0.770268  "
      ]
     },
     "execution_count": 402,
     "metadata": {},
     "output_type": "execute_result"
    }
   ],
   "source": [
    "display_results_df()"
   ]
  },
  {
   "cell_type": "markdown",
   "metadata": {},
   "source": [
    "ANALYSIS:\n",
    "- Even though it should do better with imbalanced classes, Complement NB did the same as the baseline model"
   ]
  },
  {
   "cell_type": "markdown",
   "metadata": {},
   "source": [
    "---\n"
   ]
  },
  {
   "cell_type": "markdown",
   "metadata": {},
   "source": [
    "---\n",
    "### Multinomial Bayes with Count Vectorization:\n",
    "- Basic tokenizer of >2 characters\n",
    "- Count vectorizer\n",
    "- Multinomial Bayes Classifier (same params as baseline)"
   ]
  },
  {
   "cell_type": "code",
   "execution_count": 403,
   "metadata": {},
   "outputs": [
    {
     "data": {
      "text/html": [
       "<style>#sk-container-id-76 {color: black;}#sk-container-id-76 pre{padding: 0;}#sk-container-id-76 div.sk-toggleable {background-color: white;}#sk-container-id-76 label.sk-toggleable__label {cursor: pointer;display: block;width: 100%;margin-bottom: 0;padding: 0.3em;box-sizing: border-box;text-align: center;}#sk-container-id-76 label.sk-toggleable__label-arrow:before {content: \"▸\";float: left;margin-right: 0.25em;color: #696969;}#sk-container-id-76 label.sk-toggleable__label-arrow:hover:before {color: black;}#sk-container-id-76 div.sk-estimator:hover label.sk-toggleable__label-arrow:before {color: black;}#sk-container-id-76 div.sk-toggleable__content {max-height: 0;max-width: 0;overflow: hidden;text-align: left;background-color: #f0f8ff;}#sk-container-id-76 div.sk-toggleable__content pre {margin: 0.2em;color: black;border-radius: 0.25em;background-color: #f0f8ff;}#sk-container-id-76 input.sk-toggleable__control:checked~div.sk-toggleable__content {max-height: 200px;max-width: 100%;overflow: auto;}#sk-container-id-76 input.sk-toggleable__control:checked~label.sk-toggleable__label-arrow:before {content: \"▾\";}#sk-container-id-76 div.sk-estimator input.sk-toggleable__control:checked~label.sk-toggleable__label {background-color: #d4ebff;}#sk-container-id-76 div.sk-label input.sk-toggleable__control:checked~label.sk-toggleable__label {background-color: #d4ebff;}#sk-container-id-76 input.sk-hidden--visually {border: 0;clip: rect(1px 1px 1px 1px);clip: rect(1px, 1px, 1px, 1px);height: 1px;margin: -1px;overflow: hidden;padding: 0;position: absolute;width: 1px;}#sk-container-id-76 div.sk-estimator {font-family: monospace;background-color: #f0f8ff;border: 1px dotted black;border-radius: 0.25em;box-sizing: border-box;margin-bottom: 0.5em;}#sk-container-id-76 div.sk-estimator:hover {background-color: #d4ebff;}#sk-container-id-76 div.sk-parallel-item::after {content: \"\";width: 100%;border-bottom: 1px solid gray;flex-grow: 1;}#sk-container-id-76 div.sk-label:hover label.sk-toggleable__label {background-color: #d4ebff;}#sk-container-id-76 div.sk-serial::before {content: \"\";position: absolute;border-left: 1px solid gray;box-sizing: border-box;top: 0;bottom: 0;left: 50%;z-index: 0;}#sk-container-id-76 div.sk-serial {display: flex;flex-direction: column;align-items: center;background-color: white;padding-right: 0.2em;padding-left: 0.2em;position: relative;}#sk-container-id-76 div.sk-item {position: relative;z-index: 1;}#sk-container-id-76 div.sk-parallel {display: flex;align-items: stretch;justify-content: center;background-color: white;position: relative;}#sk-container-id-76 div.sk-item::before, #sk-container-id-76 div.sk-parallel-item::before {content: \"\";position: absolute;border-left: 1px solid gray;box-sizing: border-box;top: 0;bottom: 0;left: 50%;z-index: -1;}#sk-container-id-76 div.sk-parallel-item {display: flex;flex-direction: column;z-index: 1;position: relative;background-color: white;}#sk-container-id-76 div.sk-parallel-item:first-child::after {align-self: flex-end;width: 50%;}#sk-container-id-76 div.sk-parallel-item:last-child::after {align-self: flex-start;width: 50%;}#sk-container-id-76 div.sk-parallel-item:only-child::after {width: 0;}#sk-container-id-76 div.sk-dashed-wrapped {border: 1px dashed gray;margin: 0 0.4em 0.5em 0.4em;box-sizing: border-box;padding-bottom: 0.4em;background-color: white;}#sk-container-id-76 div.sk-label label {font-family: monospace;font-weight: bold;display: inline-block;line-height: 1.2em;}#sk-container-id-76 div.sk-label-container {text-align: center;}#sk-container-id-76 div.sk-container {/* jupyter's `normalize.less` sets `[hidden] { display: none; }` but bootstrap.min.css set `[hidden] { display: none !important; }` so we also need the `!important` here to be able to override the default hidden behavior on the sphinx rendered scikit-learn.org. See: https://github.com/scikit-learn/scikit-learn/issues/21755 */display: inline-block !important;position: relative;}#sk-container-id-76 div.sk-text-repr-fallback {display: none;}</style><div id=\"sk-container-id-76\" class=\"sk-top-container\"><div class=\"sk-text-repr-fallback\"><pre>Pipeline(steps=[(&#x27;basic&#x27;,\n",
       "                 CountVectorizer(max_features=1000,\n",
       "                                 stop_words=[&#x27;i&#x27;, &#x27;me&#x27;, &#x27;my&#x27;, &#x27;myself&#x27;, &#x27;we&#x27;,\n",
       "                                             &#x27;our&#x27;, &#x27;ours&#x27;, &#x27;ourselves&#x27;, &#x27;you&#x27;,\n",
       "                                             &quot;you&#x27;re&quot;, &quot;you&#x27;ve&quot;, &quot;you&#x27;ll&quot;,\n",
       "                                             &quot;you&#x27;d&quot;, &#x27;your&#x27;, &#x27;yours&#x27;,\n",
       "                                             &#x27;yourself&#x27;, &#x27;yourselves&#x27;, &#x27;he&#x27;,\n",
       "                                             &#x27;him&#x27;, &#x27;his&#x27;, &#x27;himself&#x27;, &#x27;she&#x27;,\n",
       "                                             &quot;she&#x27;s&quot;, &#x27;her&#x27;, &#x27;hers&#x27;, &#x27;herself&#x27;,\n",
       "                                             &#x27;it&#x27;, &quot;it&#x27;s&quot;, &#x27;its&#x27;, &#x27;itself&#x27;, ...],\n",
       "                                 tokenizer=&lt;function baseline_tokenizer at 0x000001B94E3C29D0&gt;)),\n",
       "                (&#x27;clf&#x27;,\n",
       "                 ThresholdAdjuster(base_estimator=MultinomialNB(),\n",
       "                                   max_fpr=0.01))])</pre><b>In a Jupyter environment, please rerun this cell to show the HTML representation or trust the notebook. <br />On GitHub, the HTML representation is unable to render, please try loading this page with nbviewer.org.</b></div><div class=\"sk-container\" hidden><div class=\"sk-item sk-dashed-wrapped\"><div class=\"sk-label-container\"><div class=\"sk-label sk-toggleable\"><input class=\"sk-toggleable__control sk-hidden--visually\" id=\"sk-estimator-id-348\" type=\"checkbox\" ><label for=\"sk-estimator-id-348\" class=\"sk-toggleable__label sk-toggleable__label-arrow\">Pipeline</label><div class=\"sk-toggleable__content\"><pre>Pipeline(steps=[(&#x27;basic&#x27;,\n",
       "                 CountVectorizer(max_features=1000,\n",
       "                                 stop_words=[&#x27;i&#x27;, &#x27;me&#x27;, &#x27;my&#x27;, &#x27;myself&#x27;, &#x27;we&#x27;,\n",
       "                                             &#x27;our&#x27;, &#x27;ours&#x27;, &#x27;ourselves&#x27;, &#x27;you&#x27;,\n",
       "                                             &quot;you&#x27;re&quot;, &quot;you&#x27;ve&quot;, &quot;you&#x27;ll&quot;,\n",
       "                                             &quot;you&#x27;d&quot;, &#x27;your&#x27;, &#x27;yours&#x27;,\n",
       "                                             &#x27;yourself&#x27;, &#x27;yourselves&#x27;, &#x27;he&#x27;,\n",
       "                                             &#x27;him&#x27;, &#x27;his&#x27;, &#x27;himself&#x27;, &#x27;she&#x27;,\n",
       "                                             &quot;she&#x27;s&quot;, &#x27;her&#x27;, &#x27;hers&#x27;, &#x27;herself&#x27;,\n",
       "                                             &#x27;it&#x27;, &quot;it&#x27;s&quot;, &#x27;its&#x27;, &#x27;itself&#x27;, ...],\n",
       "                                 tokenizer=&lt;function baseline_tokenizer at 0x000001B94E3C29D0&gt;)),\n",
       "                (&#x27;clf&#x27;,\n",
       "                 ThresholdAdjuster(base_estimator=MultinomialNB(),\n",
       "                                   max_fpr=0.01))])</pre></div></div></div><div class=\"sk-serial\"><div class=\"sk-item\"><div class=\"sk-estimator sk-toggleable\"><input class=\"sk-toggleable__control sk-hidden--visually\" id=\"sk-estimator-id-349\" type=\"checkbox\" ><label for=\"sk-estimator-id-349\" class=\"sk-toggleable__label sk-toggleable__label-arrow\">CountVectorizer</label><div class=\"sk-toggleable__content\"><pre>CountVectorizer(max_features=1000,\n",
       "                stop_words=[&#x27;i&#x27;, &#x27;me&#x27;, &#x27;my&#x27;, &#x27;myself&#x27;, &#x27;we&#x27;, &#x27;our&#x27;, &#x27;ours&#x27;,\n",
       "                            &#x27;ourselves&#x27;, &#x27;you&#x27;, &quot;you&#x27;re&quot;, &quot;you&#x27;ve&quot;, &quot;you&#x27;ll&quot;,\n",
       "                            &quot;you&#x27;d&quot;, &#x27;your&#x27;, &#x27;yours&#x27;, &#x27;yourself&#x27;, &#x27;yourselves&#x27;,\n",
       "                            &#x27;he&#x27;, &#x27;him&#x27;, &#x27;his&#x27;, &#x27;himself&#x27;, &#x27;she&#x27;, &quot;she&#x27;s&quot;,\n",
       "                            &#x27;her&#x27;, &#x27;hers&#x27;, &#x27;herself&#x27;, &#x27;it&#x27;, &quot;it&#x27;s&quot;, &#x27;its&#x27;,\n",
       "                            &#x27;itself&#x27;, ...],\n",
       "                tokenizer=&lt;function baseline_tokenizer at 0x000001B94E3C29D0&gt;)</pre></div></div></div><div class=\"sk-item sk-dashed-wrapped\"><div class=\"sk-label-container\"><div class=\"sk-label sk-toggleable\"><input class=\"sk-toggleable__control sk-hidden--visually\" id=\"sk-estimator-id-350\" type=\"checkbox\" ><label for=\"sk-estimator-id-350\" class=\"sk-toggleable__label sk-toggleable__label-arrow\">clf: ThresholdAdjuster</label><div class=\"sk-toggleable__content\"><pre>ThresholdAdjuster(base_estimator=MultinomialNB(), max_fpr=0.01)</pre></div></div></div><div class=\"sk-parallel\"><div class=\"sk-parallel-item\"><div class=\"sk-item\"><div class=\"sk-label-container\"><div class=\"sk-label sk-toggleable\"><input class=\"sk-toggleable__control sk-hidden--visually\" id=\"sk-estimator-id-351\" type=\"checkbox\" ><label for=\"sk-estimator-id-351\" class=\"sk-toggleable__label sk-toggleable__label-arrow\">base_estimator: MultinomialNB</label><div class=\"sk-toggleable__content\"><pre>MultinomialNB()</pre></div></div></div><div class=\"sk-serial\"><div class=\"sk-item\"><div class=\"sk-estimator sk-toggleable\"><input class=\"sk-toggleable__control sk-hidden--visually\" id=\"sk-estimator-id-352\" type=\"checkbox\" ><label for=\"sk-estimator-id-352\" class=\"sk-toggleable__label sk-toggleable__label-arrow\">MultinomialNB</label><div class=\"sk-toggleable__content\"><pre>MultinomialNB()</pre></div></div></div></div></div></div></div></div></div></div></div></div>"
      ],
      "text/plain": [
       "Pipeline(steps=[('basic',\n",
       "                 CountVectorizer(max_features=1000,\n",
       "                                 stop_words=['i', 'me', 'my', 'myself', 'we',\n",
       "                                             'our', 'ours', 'ourselves', 'you',\n",
       "                                             \"you're\", \"you've\", \"you'll\",\n",
       "                                             \"you'd\", 'your', 'yours',\n",
       "                                             'yourself', 'yourselves', 'he',\n",
       "                                             'him', 'his', 'himself', 'she',\n",
       "                                             \"she's\", 'her', 'hers', 'herself',\n",
       "                                             'it', \"it's\", 'its', 'itself', ...],\n",
       "                                 tokenizer=<function baseline_tokenizer at 0x000001B94E3C29D0>)),\n",
       "                ('clf',\n",
       "                 ThresholdAdjuster(base_estimator=MultinomialNB(),\n",
       "                                   max_fpr=0.01))])"
      ]
     },
     "execution_count": 403,
     "metadata": {},
     "output_type": "execute_result"
    }
   ],
   "source": [
    "# Create a tokenizer function and a vectorizer pipeline step for basic preprocessing\n",
    "\n",
    "\n",
    "# Create the baseline basic binary CountVectorizer pipeline step tuple\n",
    "step_count_vec = ('step_vec', CountVectorizer(max_features=1000,\n",
    "                                           binary=False, \n",
    "                                           stop_words=stop_words, \n",
    "                                           tokenizer=baseline_tokenizer))\n",
    "\n",
    "# Create and fit the pipeline for the baseline model\n",
    "pipe_baseline = Pipeline([step_count_vec, step_baseline_model])\n",
    "\n",
    "pipe_baseline.fit(X_train, y_train)"
   ]
  },
  {
   "cell_type": "code",
   "execution_count": 404,
   "metadata": {},
   "outputs": [
    {
     "name": "stdout",
     "output_type": "stream",
     "text": [
      "Threshold: 0.832, FPR: 0.009\n",
      "Threshold: 0.828, FPR: 0.009\n",
      "Threshold: 0.878, FPR: 0.010\n",
      "Threshold: 0.840, FPR: 0.010\n",
      "Threshold: 0.851, FPR: 0.010\n",
      "Model: MultinomialNB Count-Vectorized)\n",
      "==================================================\n",
      "         Train Accuracy: 0.8898\n",
      "            CV Accuracy: 0.8618\n",
      "               Accuracy: 0.8601\n",
      "              Precision: 0.9216\n",
      "                 Recall: 0.5663\n",
      "                     F1: 0.7015\n",
      "                    AUC: 0.7733\n",
      "==================================================\n",
      "              precision    recall  f1-score   support\n",
      "\n",
      "           0       0.85      0.98      0.91       812\n",
      "           1       0.92      0.57      0.70       332\n",
      "\n",
      "    accuracy                           0.86      1144\n",
      "   macro avg       0.88      0.77      0.81      1144\n",
      "weighted avg       0.87      0.86      0.85      1144\n",
      "\n"
     ]
    },
    {
     "data": {
      "image/png": "[encoded data removed]",
      "text/plain": [
       "<Figure size 640x480 with 2 Axes>"
      ]
     },
     "metadata": {},
     "output_type": "display_data"
    }
   ],
   "source": [
    "display_results('MultinomialNB Count-Vectorized)', 'Email-Subject', pipe_baseline, X_train, y_train, X_test, y_test)"
   ]
  },
  {
   "cell_type": "code",
   "execution_count": 405,
   "metadata": {},
   "outputs": [
    {
     "data": {
      "text/html": [
       "<div>\n",
       "<style scoped>\n",
       "    .dataframe tbody tr th:only-of-type {\n",
       "        vertical-align: middle;\n",
       "    }\n",
       "\n",
       "    .dataframe tbody tr th {\n",
       "        vertical-align: top;\n",
       "    }\n",
       "\n",
       "    .dataframe thead th {\n",
       "        text-align: right;\n",
       "    }\n",
       "</style>\n",
       "<table border=\"1\" class=\"dataframe\">\n",
       "  <thead>\n",
       "    <tr style=\"text-align: right;\">\n",
       "      <th></th>\n",
       "      <th>Data Set</th>\n",
       "      <th>Train Accuracy</th>\n",
       "      <th>CV Accuracy</th>\n",
       "      <th>Accuracy</th>\n",
       "      <th>Precision</th>\n",
       "      <th>Recall</th>\n",
       "      <th>F1</th>\n",
       "      <th>AUC</th>\n",
       "    </tr>\n",
       "  </thead>\n",
       "  <tbody>\n",
       "    <tr>\n",
       "      <th>MultinomialNB Count-Vectorized)</th>\n",
       "      <td>Email-Subject</td>\n",
       "      <td>0.889764</td>\n",
       "      <td>0.861763</td>\n",
       "      <td>0.86014</td>\n",
       "      <td>0.921569</td>\n",
       "      <td>0.566265</td>\n",
       "      <td>0.701493</td>\n",
       "      <td>0.77328</td>\n",
       "    </tr>\n",
       "    <tr>\n",
       "      <th>Baseline Model (MultinomialNB)</th>\n",
       "      <td>Email-Subject</td>\n",
       "      <td>0.889764</td>\n",
       "      <td>0.862857</td>\n",
       "      <td>0.858392</td>\n",
       "      <td>0.920792</td>\n",
       "      <td>0.560241</td>\n",
       "      <td>0.696629</td>\n",
       "      <td>0.770268</td>\n",
       "    </tr>\n",
       "    <tr>\n",
       "      <th>ComplementNB Basic</th>\n",
       "      <td>Email-Subject</td>\n",
       "      <td>0.889764</td>\n",
       "      <td>0.863076</td>\n",
       "      <td>0.858392</td>\n",
       "      <td>0.920792</td>\n",
       "      <td>0.560241</td>\n",
       "      <td>0.696629</td>\n",
       "      <td>0.770268</td>\n",
       "    </tr>\n",
       "  </tbody>\n",
       "</table>\n",
       "</div>"
      ],
      "text/plain": [
       "                                      Data Set Train Accuracy CV Accuracy  \\\n",
       "MultinomialNB Count-Vectorized)  Email-Subject       0.889764    0.861763   \n",
       "Baseline Model (MultinomialNB)   Email-Subject       0.889764    0.862857   \n",
       "ComplementNB Basic               Email-Subject       0.889764    0.863076   \n",
       "\n",
       "                                 Accuracy Precision    Recall        F1  \\\n",
       "MultinomialNB Count-Vectorized)   0.86014  0.921569  0.566265  0.701493   \n",
       "Baseline Model (MultinomialNB)   0.858392  0.920792  0.560241  0.696629   \n",
       "ComplementNB Basic               0.858392  0.920792  0.560241  0.696629   \n",
       "\n",
       "                                      AUC  \n",
       "MultinomialNB Count-Vectorized)   0.77328  \n",
       "Baseline Model (MultinomialNB)   0.770268  \n",
       "ComplementNB Basic               0.770268  "
      ]
     },
     "execution_count": 405,
     "metadata": {},
     "output_type": "execute_result"
    }
   ],
   "source": [
    "display_results_df()"
   ]
  },
  {
   "cell_type": "markdown",
   "metadata": {},
   "source": [
    "ANALYSIS:\n",
    "- Count vectorized is slightly better precision but in the noise probably.\n",
    "- Makes sense as the subject line is usually pretty sparse on words, so counts will not be much different than binary values"
   ]
  },
  {
   "cell_type": "markdown",
   "metadata": {},
   "source": [
    "---"
   ]
  },
  {
   "cell_type": "markdown",
   "metadata": {},
   "source": [
    "---\n",
    "### Multinomial Bayes with TF-IDF Vectorization:\n",
    "- Basic tokenizer of >2 characters\n",
    "- TF-IDF vectorizer\n",
    "- Multinomial Bayes Classifier (same params as baseline)"
   ]
  },
  {
   "cell_type": "code",
   "execution_count": 407,
   "metadata": {},
   "outputs": [
    {
     "data": {
      "text/html": [
       "<style>#sk-container-id-78 {color: black;}#sk-container-id-78 pre{padding: 0;}#sk-container-id-78 div.sk-toggleable {background-color: white;}#sk-container-id-78 label.sk-toggleable__label {cursor: pointer;display: block;width: 100%;margin-bottom: 0;padding: 0.3em;box-sizing: border-box;text-align: center;}#sk-container-id-78 label.sk-toggleable__label-arrow:before {content: \"▸\";float: left;margin-right: 0.25em;color: #696969;}#sk-container-id-78 label.sk-toggleable__label-arrow:hover:before {color: black;}#sk-container-id-78 div.sk-estimator:hover label.sk-toggleable__label-arrow:before {color: black;}#sk-container-id-78 div.sk-toggleable__content {max-height: 0;max-width: 0;overflow: hidden;text-align: left;background-color: #f0f8ff;}#sk-container-id-78 div.sk-toggleable__content pre {margin: 0.2em;color: black;border-radius: 0.25em;background-color: #f0f8ff;}#sk-container-id-78 input.sk-toggleable__control:checked~div.sk-toggleable__content {max-height: 200px;max-width: 100%;overflow: auto;}#sk-container-id-78 input.sk-toggleable__control:checked~label.sk-toggleable__label-arrow:before {content: \"▾\";}#sk-container-id-78 div.sk-estimator input.sk-toggleable__control:checked~label.sk-toggleable__label {background-color: #d4ebff;}#sk-container-id-78 div.sk-label input.sk-toggleable__control:checked~label.sk-toggleable__label {background-color: #d4ebff;}#sk-container-id-78 input.sk-hidden--visually {border: 0;clip: rect(1px 1px 1px 1px);clip: rect(1px, 1px, 1px, 1px);height: 1px;margin: -1px;overflow: hidden;padding: 0;position: absolute;width: 1px;}#sk-container-id-78 div.sk-estimator {font-family: monospace;background-color: #f0f8ff;border: 1px dotted black;border-radius: 0.25em;box-sizing: border-box;margin-bottom: 0.5em;}#sk-container-id-78 div.sk-estimator:hover {background-color: #d4ebff;}#sk-container-id-78 div.sk-parallel-item::after {content: \"\";width: 100%;border-bottom: 1px solid gray;flex-grow: 1;}#sk-container-id-78 div.sk-label:hover label.sk-toggleable__label {background-color: #d4ebff;}#sk-container-id-78 div.sk-serial::before {content: \"\";position: absolute;border-left: 1px solid gray;box-sizing: border-box;top: 0;bottom: 0;left: 50%;z-index: 0;}#sk-container-id-78 div.sk-serial {display: flex;flex-direction: column;align-items: center;background-color: white;padding-right: 0.2em;padding-left: 0.2em;position: relative;}#sk-container-id-78 div.sk-item {position: relative;z-index: 1;}#sk-container-id-78 div.sk-parallel {display: flex;align-items: stretch;justify-content: center;background-color: white;position: relative;}#sk-container-id-78 div.sk-item::before, #sk-container-id-78 div.sk-parallel-item::before {content: \"\";position: absolute;border-left: 1px solid gray;box-sizing: border-box;top: 0;bottom: 0;left: 50%;z-index: -1;}#sk-container-id-78 div.sk-parallel-item {display: flex;flex-direction: column;z-index: 1;position: relative;background-color: white;}#sk-container-id-78 div.sk-parallel-item:first-child::after {align-self: flex-end;width: 50%;}#sk-container-id-78 div.sk-parallel-item:last-child::after {align-self: flex-start;width: 50%;}#sk-container-id-78 div.sk-parallel-item:only-child::after {width: 0;}#sk-container-id-78 div.sk-dashed-wrapped {border: 1px dashed gray;margin: 0 0.4em 0.5em 0.4em;box-sizing: border-box;padding-bottom: 0.4em;background-color: white;}#sk-container-id-78 div.sk-label label {font-family: monospace;font-weight: bold;display: inline-block;line-height: 1.2em;}#sk-container-id-78 div.sk-label-container {text-align: center;}#sk-container-id-78 div.sk-container {/* jupyter's `normalize.less` sets `[hidden] { display: none; }` but bootstrap.min.css set `[hidden] { display: none !important; }` so we also need the `!important` here to be able to override the default hidden behavior on the sphinx rendered scikit-learn.org. See: https://github.com/scikit-learn/scikit-learn/issues/21755 */display: inline-block !important;position: relative;}#sk-container-id-78 div.sk-text-repr-fallback {display: none;}</style><div id=\"sk-container-id-78\" class=\"sk-top-container\"><div class=\"sk-text-repr-fallback\"><pre>Pipeline(steps=[(&#x27;tf_idf&#x27;,\n",
       "                 TfidfVectorizer(max_features=1000,\n",
       "                                 stop_words=[&#x27;i&#x27;, &#x27;me&#x27;, &#x27;my&#x27;, &#x27;myself&#x27;, &#x27;we&#x27;,\n",
       "                                             &#x27;our&#x27;, &#x27;ours&#x27;, &#x27;ourselves&#x27;, &#x27;you&#x27;,\n",
       "                                             &quot;you&#x27;re&quot;, &quot;you&#x27;ve&quot;, &quot;you&#x27;ll&quot;,\n",
       "                                             &quot;you&#x27;d&quot;, &#x27;your&#x27;, &#x27;yours&#x27;,\n",
       "                                             &#x27;yourself&#x27;, &#x27;yourselves&#x27;, &#x27;he&#x27;,\n",
       "                                             &#x27;him&#x27;, &#x27;his&#x27;, &#x27;himself&#x27;, &#x27;she&#x27;,\n",
       "                                             &quot;she&#x27;s&quot;, &#x27;her&#x27;, &#x27;hers&#x27;, &#x27;herself&#x27;,\n",
       "                                             &#x27;it&#x27;, &quot;it&#x27;s&quot;, &#x27;its&#x27;, &#x27;itself&#x27;, ...],\n",
       "                                 tokenizer=&lt;function baseline_tokenizer at 0x000001B94E3C29D0&gt;)),\n",
       "                (&#x27;clf&#x27;,\n",
       "                 ThresholdAdjuster(base_estimator=MultinomialNB(),\n",
       "                                   max_fpr=0.01))])</pre><b>In a Jupyter environment, please rerun this cell to show the HTML representation or trust the notebook. <br />On GitHub, the HTML representation is unable to render, please try loading this page with nbviewer.org.</b></div><div class=\"sk-container\" hidden><div class=\"sk-item sk-dashed-wrapped\"><div class=\"sk-label-container\"><div class=\"sk-label sk-toggleable\"><input class=\"sk-toggleable__control sk-hidden--visually\" id=\"sk-estimator-id-358\" type=\"checkbox\" ><label for=\"sk-estimator-id-358\" class=\"sk-toggleable__label sk-toggleable__label-arrow\">Pipeline</label><div class=\"sk-toggleable__content\"><pre>Pipeline(steps=[(&#x27;tf_idf&#x27;,\n",
       "                 TfidfVectorizer(max_features=1000,\n",
       "                                 stop_words=[&#x27;i&#x27;, &#x27;me&#x27;, &#x27;my&#x27;, &#x27;myself&#x27;, &#x27;we&#x27;,\n",
       "                                             &#x27;our&#x27;, &#x27;ours&#x27;, &#x27;ourselves&#x27;, &#x27;you&#x27;,\n",
       "                                             &quot;you&#x27;re&quot;, &quot;you&#x27;ve&quot;, &quot;you&#x27;ll&quot;,\n",
       "                                             &quot;you&#x27;d&quot;, &#x27;your&#x27;, &#x27;yours&#x27;,\n",
       "                                             &#x27;yourself&#x27;, &#x27;yourselves&#x27;, &#x27;he&#x27;,\n",
       "                                             &#x27;him&#x27;, &#x27;his&#x27;, &#x27;himself&#x27;, &#x27;she&#x27;,\n",
       "                                             &quot;she&#x27;s&quot;, &#x27;her&#x27;, &#x27;hers&#x27;, &#x27;herself&#x27;,\n",
       "                                             &#x27;it&#x27;, &quot;it&#x27;s&quot;, &#x27;its&#x27;, &#x27;itself&#x27;, ...],\n",
       "                                 tokenizer=&lt;function baseline_tokenizer at 0x000001B94E3C29D0&gt;)),\n",
       "                (&#x27;clf&#x27;,\n",
       "                 ThresholdAdjuster(base_estimator=MultinomialNB(),\n",
       "                                   max_fpr=0.01))])</pre></div></div></div><div class=\"sk-serial\"><div class=\"sk-item\"><div class=\"sk-estimator sk-toggleable\"><input class=\"sk-toggleable__control sk-hidden--visually\" id=\"sk-estimator-id-359\" type=\"checkbox\" ><label for=\"sk-estimator-id-359\" class=\"sk-toggleable__label sk-toggleable__label-arrow\">TfidfVectorizer</label><div class=\"sk-toggleable__content\"><pre>TfidfVectorizer(max_features=1000,\n",
       "                stop_words=[&#x27;i&#x27;, &#x27;me&#x27;, &#x27;my&#x27;, &#x27;myself&#x27;, &#x27;we&#x27;, &#x27;our&#x27;, &#x27;ours&#x27;,\n",
       "                            &#x27;ourselves&#x27;, &#x27;you&#x27;, &quot;you&#x27;re&quot;, &quot;you&#x27;ve&quot;, &quot;you&#x27;ll&quot;,\n",
       "                            &quot;you&#x27;d&quot;, &#x27;your&#x27;, &#x27;yours&#x27;, &#x27;yourself&#x27;, &#x27;yourselves&#x27;,\n",
       "                            &#x27;he&#x27;, &#x27;him&#x27;, &#x27;his&#x27;, &#x27;himself&#x27;, &#x27;she&#x27;, &quot;she&#x27;s&quot;,\n",
       "                            &#x27;her&#x27;, &#x27;hers&#x27;, &#x27;herself&#x27;, &#x27;it&#x27;, &quot;it&#x27;s&quot;, &#x27;its&#x27;,\n",
       "                            &#x27;itself&#x27;, ...],\n",
       "                tokenizer=&lt;function baseline_tokenizer at 0x000001B94E3C29D0&gt;)</pre></div></div></div><div class=\"sk-item sk-dashed-wrapped\"><div class=\"sk-label-container\"><div class=\"sk-label sk-toggleable\"><input class=\"sk-toggleable__control sk-hidden--visually\" id=\"sk-estimator-id-360\" type=\"checkbox\" ><label for=\"sk-estimator-id-360\" class=\"sk-toggleable__label sk-toggleable__label-arrow\">clf: ThresholdAdjuster</label><div class=\"sk-toggleable__content\"><pre>ThresholdAdjuster(base_estimator=MultinomialNB(), max_fpr=0.01)</pre></div></div></div><div class=\"sk-parallel\"><div class=\"sk-parallel-item\"><div class=\"sk-item\"><div class=\"sk-label-container\"><div class=\"sk-label sk-toggleable\"><input class=\"sk-toggleable__control sk-hidden--visually\" id=\"sk-estimator-id-361\" type=\"checkbox\" ><label for=\"sk-estimator-id-361\" class=\"sk-toggleable__label sk-toggleable__label-arrow\">base_estimator: MultinomialNB</label><div class=\"sk-toggleable__content\"><pre>MultinomialNB()</pre></div></div></div><div class=\"sk-serial\"><div class=\"sk-item\"><div class=\"sk-estimator sk-toggleable\"><input class=\"sk-toggleable__control sk-hidden--visually\" id=\"sk-estimator-id-362\" type=\"checkbox\" ><label for=\"sk-estimator-id-362\" class=\"sk-toggleable__label sk-toggleable__label-arrow\">MultinomialNB</label><div class=\"sk-toggleable__content\"><pre>MultinomialNB()</pre></div></div></div></div></div></div></div></div></div></div></div></div>"
      ],
      "text/plain": [
       "Pipeline(steps=[('tf_idf',\n",
       "                 TfidfVectorizer(max_features=1000,\n",
       "                                 stop_words=['i', 'me', 'my', 'myself', 'we',\n",
       "                                             'our', 'ours', 'ourselves', 'you',\n",
       "                                             \"you're\", \"you've\", \"you'll\",\n",
       "                                             \"you'd\", 'your', 'yours',\n",
       "                                             'yourself', 'yourselves', 'he',\n",
       "                                             'him', 'his', 'himself', 'she',\n",
       "                                             \"she's\", 'her', 'hers', 'herself',\n",
       "                                             'it', \"it's\", 'its', 'itself', ...],\n",
       "                                 tokenizer=<function baseline_tokenizer at 0x000001B94E3C29D0>)),\n",
       "                ('clf',\n",
       "                 ThresholdAdjuster(base_estimator=MultinomialNB(),\n",
       "                                   max_fpr=0.01))])"
      ]
     },
     "execution_count": 407,
     "metadata": {},
     "output_type": "execute_result"
    }
   ],
   "source": [
    "\n",
    "step_tfidf_vec = ('tf_idf', TfidfVectorizer(max_features=1000,\n",
    "                                           stop_words=stop_words, \n",
    "                                           tokenizer=baseline_tokenizer))\n",
    "\n",
    "# Create and fit the pipeline for the baseline model\n",
    "pipe_baseline = Pipeline([step_tfidf_vec, step_baseline_model])\n",
    "\n",
    "pipe_baseline.fit(X_train, y_train)"
   ]
  },
  {
   "cell_type": "code",
   "execution_count": 408,
   "metadata": {},
   "outputs": [
    {
     "name": "stdout",
     "output_type": "stream",
     "text": [
      "Threshold: 0.667, FPR: 0.009\n",
      "Threshold: 0.643, FPR: 0.009\n",
      "Threshold: 0.668, FPR: 0.010\n",
      "Threshold: 0.646, FPR: 0.010\n",
      "Threshold: 0.625, FPR: 0.010\n",
      "Model: MultinomialNB TF-IDF-Vectorized)\n",
      "==================================================\n",
      "         Train Accuracy: 0.8406\n",
      "            CV Accuracy: 0.8692\n",
      "               Accuracy: 0.8156\n",
      "              Precision: 0.9764\n",
      "                 Recall: 0.3735\n",
      "                     F1: 0.5403\n",
      "                    AUC: 0.6849\n",
      "==================================================\n",
      "              precision    recall  f1-score   support\n",
      "\n",
      "           0       0.80      1.00      0.88       812\n",
      "           1       0.98      0.37      0.54       332\n",
      "\n",
      "    accuracy                           0.82      1144\n",
      "   macro avg       0.89      0.68      0.71      1144\n",
      "weighted avg       0.85      0.82      0.78      1144\n",
      "\n"
     ]
    },
    {
     "data": {
      "image/png": "[encoded data removed]",
      "text/plain": [
       "<Figure size 640x480 with 2 Axes>"
      ]
     },
     "metadata": {},
     "output_type": "display_data"
    }
   ],
   "source": [
    "display_results('MultinomialNB TF-IDF-Vectorized)', 'Email-Subject', pipe_baseline, X_train, y_train, X_test, y_test)"
   ]
  },
  {
   "cell_type": "code",
   "execution_count": 409,
   "metadata": {},
   "outputs": [
    {
     "data": {
      "text/html": [
       "<div>\n",
       "<style scoped>\n",
       "    .dataframe tbody tr th:only-of-type {\n",
       "        vertical-align: middle;\n",
       "    }\n",
       "\n",
       "    .dataframe tbody tr th {\n",
       "        vertical-align: top;\n",
       "    }\n",
       "\n",
       "    .dataframe thead th {\n",
       "        text-align: right;\n",
       "    }\n",
       "</style>\n",
       "<table border=\"1\" class=\"dataframe\">\n",
       "  <thead>\n",
       "    <tr style=\"text-align: right;\">\n",
       "      <th></th>\n",
       "      <th>Data Set</th>\n",
       "      <th>Train Accuracy</th>\n",
       "      <th>CV Accuracy</th>\n",
       "      <th>Accuracy</th>\n",
       "      <th>Precision</th>\n",
       "      <th>Recall</th>\n",
       "      <th>F1</th>\n",
       "      <th>AUC</th>\n",
       "    </tr>\n",
       "  </thead>\n",
       "  <tbody>\n",
       "    <tr>\n",
       "      <th>MultinomialNB TF-IDF-Vectorized)</th>\n",
       "      <td>Email-Subject</td>\n",
       "      <td>0.840551</td>\n",
       "      <td>0.869202</td>\n",
       "      <td>0.815559</td>\n",
       "      <td>0.976378</td>\n",
       "      <td>0.373494</td>\n",
       "      <td>0.540305</td>\n",
       "      <td>0.6849</td>\n",
       "    </tr>\n",
       "    <tr>\n",
       "      <th>MultinomialNB Count-Vectorized)</th>\n",
       "      <td>Email-Subject</td>\n",
       "      <td>0.889764</td>\n",
       "      <td>0.861763</td>\n",
       "      <td>0.86014</td>\n",
       "      <td>0.921569</td>\n",
       "      <td>0.566265</td>\n",
       "      <td>0.701493</td>\n",
       "      <td>0.77328</td>\n",
       "    </tr>\n",
       "    <tr>\n",
       "      <th>Baseline Model (MultinomialNB)</th>\n",
       "      <td>Email-Subject</td>\n",
       "      <td>0.889764</td>\n",
       "      <td>0.862857</td>\n",
       "      <td>0.858392</td>\n",
       "      <td>0.920792</td>\n",
       "      <td>0.560241</td>\n",
       "      <td>0.696629</td>\n",
       "      <td>0.770268</td>\n",
       "    </tr>\n",
       "    <tr>\n",
       "      <th>ComplementNB Basic</th>\n",
       "      <td>Email-Subject</td>\n",
       "      <td>0.889764</td>\n",
       "      <td>0.863076</td>\n",
       "      <td>0.858392</td>\n",
       "      <td>0.920792</td>\n",
       "      <td>0.560241</td>\n",
       "      <td>0.696629</td>\n",
       "      <td>0.770268</td>\n",
       "    </tr>\n",
       "  </tbody>\n",
       "</table>\n",
       "</div>"
      ],
      "text/plain": [
       "                                       Data Set Train Accuracy CV Accuracy  \\\n",
       "MultinomialNB TF-IDF-Vectorized)  Email-Subject       0.840551    0.869202   \n",
       "MultinomialNB Count-Vectorized)   Email-Subject       0.889764    0.861763   \n",
       "Baseline Model (MultinomialNB)    Email-Subject       0.889764    0.862857   \n",
       "ComplementNB Basic                Email-Subject       0.889764    0.863076   \n",
       "\n",
       "                                  Accuracy Precision    Recall        F1  \\\n",
       "MultinomialNB TF-IDF-Vectorized)  0.815559  0.976378  0.373494  0.540305   \n",
       "MultinomialNB Count-Vectorized)    0.86014  0.921569  0.566265  0.701493   \n",
       "Baseline Model (MultinomialNB)    0.858392  0.920792  0.560241  0.696629   \n",
       "ComplementNB Basic                0.858392  0.920792  0.560241  0.696629   \n",
       "\n",
       "                                       AUC  \n",
       "MultinomialNB TF-IDF-Vectorized)    0.6849  \n",
       "MultinomialNB Count-Vectorized)    0.77328  \n",
       "Baseline Model (MultinomialNB)    0.770268  \n",
       "ComplementNB Basic                0.770268  "
      ]
     },
     "execution_count": 409,
     "metadata": {},
     "output_type": "execute_result"
    }
   ],
   "source": [
    "display_results_df()"
   ]
  },
  {
   "cell_type": "markdown",
   "metadata": {},
   "source": [
    "ANALYSIS:\n",
    "- Much higher precision at .98, but our accuracy suffered now at .82.  \n",
    "- Now the majority of spam is classifying into ham... not good"
   ]
  },
  {
   "cell_type": "markdown",
   "metadata": {},
   "source": [
    "---"
   ]
  },
  {
   "cell_type": "code",
   "execution_count": null,
   "metadata": {},
   "outputs": [],
   "source": []
  },
  {
   "cell_type": "code",
   "execution_count": null,
   "metadata": {},
   "outputs": [],
   "source": []
  },
  {
   "cell_type": "code",
   "execution_count": null,
   "metadata": {},
   "outputs": [],
   "source": []
  },
  {
   "cell_type": "code",
   "execution_count": null,
   "metadata": {},
   "outputs": [],
   "source": []
  },
  {
   "cell_type": "code",
   "execution_count": null,
   "metadata": {},
   "outputs": [],
   "source": []
  },
  {
   "cell_type": "code",
   "execution_count": null,
   "metadata": {},
   "outputs": [],
   "source": []
  },
  {
   "cell_type": "code",
   "execution_count": null,
   "metadata": {},
   "outputs": [],
   "source": []
  },
  {
   "cell_type": "code",
   "execution_count": null,
   "metadata": {},
   "outputs": [],
   "source": []
  },
  {
   "cell_type": "code",
   "execution_count": null,
   "metadata": {},
   "outputs": [],
   "source": []
  },
  {
   "cell_type": "code",
   "execution_count": null,
   "metadata": {},
   "outputs": [],
   "source": []
  },
  {
   "cell_type": "markdown",
   "metadata": {},
   "source": [
    "### Random Forest Classifier\n",
    "- Same preprocessing as the baseline\n",
    "- Complement NB might do better on unbalanced class distribution (we are at 70/30)"
   ]
  },
  {
   "cell_type": "code",
   "execution_count": 385,
   "metadata": {},
   "outputs": [
    {
     "name": "stdout",
     "output_type": "stream",
     "text": [
      "Threshold: 0.434, FPR: 0.010\n"
     ]
    },
    {
     "data": {
      "text/html": [
       "<style>#sk-container-id-71 {color: black;}#sk-container-id-71 pre{padding: 0;}#sk-container-id-71 div.sk-toggleable {background-color: white;}#sk-container-id-71 label.sk-toggleable__label {cursor: pointer;display: block;width: 100%;margin-bottom: 0;padding: 0.3em;box-sizing: border-box;text-align: center;}#sk-container-id-71 label.sk-toggleable__label-arrow:before {content: \"▸\";float: left;margin-right: 0.25em;color: #696969;}#sk-container-id-71 label.sk-toggleable__label-arrow:hover:before {color: black;}#sk-container-id-71 div.sk-estimator:hover label.sk-toggleable__label-arrow:before {color: black;}#sk-container-id-71 div.sk-toggleable__content {max-height: 0;max-width: 0;overflow: hidden;text-align: left;background-color: #f0f8ff;}#sk-container-id-71 div.sk-toggleable__content pre {margin: 0.2em;color: black;border-radius: 0.25em;background-color: #f0f8ff;}#sk-container-id-71 input.sk-toggleable__control:checked~div.sk-toggleable__content {max-height: 200px;max-width: 100%;overflow: auto;}#sk-container-id-71 input.sk-toggleable__control:checked~label.sk-toggleable__label-arrow:before {content: \"▾\";}#sk-container-id-71 div.sk-estimator input.sk-toggleable__control:checked~label.sk-toggleable__label {background-color: #d4ebff;}#sk-container-id-71 div.sk-label input.sk-toggleable__control:checked~label.sk-toggleable__label {background-color: #d4ebff;}#sk-container-id-71 input.sk-hidden--visually {border: 0;clip: rect(1px 1px 1px 1px);clip: rect(1px, 1px, 1px, 1px);height: 1px;margin: -1px;overflow: hidden;padding: 0;position: absolute;width: 1px;}#sk-container-id-71 div.sk-estimator {font-family: monospace;background-color: #f0f8ff;border: 1px dotted black;border-radius: 0.25em;box-sizing: border-box;margin-bottom: 0.5em;}#sk-container-id-71 div.sk-estimator:hover {background-color: #d4ebff;}#sk-container-id-71 div.sk-parallel-item::after {content: \"\";width: 100%;border-bottom: 1px solid gray;flex-grow: 1;}#sk-container-id-71 div.sk-label:hover label.sk-toggleable__label {background-color: #d4ebff;}#sk-container-id-71 div.sk-serial::before {content: \"\";position: absolute;border-left: 1px solid gray;box-sizing: border-box;top: 0;bottom: 0;left: 50%;z-index: 0;}#sk-container-id-71 div.sk-serial {display: flex;flex-direction: column;align-items: center;background-color: white;padding-right: 0.2em;padding-left: 0.2em;position: relative;}#sk-container-id-71 div.sk-item {position: relative;z-index: 1;}#sk-container-id-71 div.sk-parallel {display: flex;align-items: stretch;justify-content: center;background-color: white;position: relative;}#sk-container-id-71 div.sk-item::before, #sk-container-id-71 div.sk-parallel-item::before {content: \"\";position: absolute;border-left: 1px solid gray;box-sizing: border-box;top: 0;bottom: 0;left: 50%;z-index: -1;}#sk-container-id-71 div.sk-parallel-item {display: flex;flex-direction: column;z-index: 1;position: relative;background-color: white;}#sk-container-id-71 div.sk-parallel-item:first-child::after {align-self: flex-end;width: 50%;}#sk-container-id-71 div.sk-parallel-item:last-child::after {align-self: flex-start;width: 50%;}#sk-container-id-71 div.sk-parallel-item:only-child::after {width: 0;}#sk-container-id-71 div.sk-dashed-wrapped {border: 1px dashed gray;margin: 0 0.4em 0.5em 0.4em;box-sizing: border-box;padding-bottom: 0.4em;background-color: white;}#sk-container-id-71 div.sk-label label {font-family: monospace;font-weight: bold;display: inline-block;line-height: 1.2em;}#sk-container-id-71 div.sk-label-container {text-align: center;}#sk-container-id-71 div.sk-container {/* jupyter's `normalize.less` sets `[hidden] { display: none; }` but bootstrap.min.css set `[hidden] { display: none !important; }` so we also need the `!important` here to be able to override the default hidden behavior on the sphinx rendered scikit-learn.org. See: https://github.com/scikit-learn/scikit-learn/issues/21755 */display: inline-block !important;position: relative;}#sk-container-id-71 div.sk-text-repr-fallback {display: none;}</style><div id=\"sk-container-id-71\" class=\"sk-top-container\"><div class=\"sk-text-repr-fallback\"><pre>Pipeline(steps=[(&#x27;basic&#x27;,\n",
       "                 CountVectorizer(binary=True, max_features=1000,\n",
       "                                 stop_words=[&#x27;i&#x27;, &#x27;me&#x27;, &#x27;my&#x27;, &#x27;myself&#x27;, &#x27;we&#x27;,\n",
       "                                             &#x27;our&#x27;, &#x27;ours&#x27;, &#x27;ourselves&#x27;, &#x27;you&#x27;,\n",
       "                                             &quot;you&#x27;re&quot;, &quot;you&#x27;ve&quot;, &quot;you&#x27;ll&quot;,\n",
       "                                             &quot;you&#x27;d&quot;, &#x27;your&#x27;, &#x27;yours&#x27;,\n",
       "                                             &#x27;yourself&#x27;, &#x27;yourselves&#x27;, &#x27;he&#x27;,\n",
       "                                             &#x27;him&#x27;, &#x27;his&#x27;, &#x27;himself&#x27;, &#x27;she&#x27;,\n",
       "                                             &quot;she&#x27;s&quot;, &#x27;her&#x27;, &#x27;hers&#x27;, &#x27;herself&#x27;,\n",
       "                                             &#x27;it&#x27;, &quot;it&#x27;s&quot;, &#x27;its&#x27;, &#x27;itself&#x27;, ...],\n",
       "                                 tokenizer=&lt;function baseline_tokenizer at 0x000001B94E4B93A0&gt;)),\n",
       "                (&#x27;rf_clf&#x27;,\n",
       "                 ThresholdAdjuster(base_estimator=RandomForestClassifier(n_estimators=1000,\n",
       "                                                                         random_state=42),\n",
       "                                   max_fpr=0.01))])</pre><b>In a Jupyter environment, please rerun this cell to show the HTML representation or trust the notebook. <br />On GitHub, the HTML representation is unable to render, please try loading this page with nbviewer.org.</b></div><div class=\"sk-container\" hidden><div class=\"sk-item sk-dashed-wrapped\"><div class=\"sk-label-container\"><div class=\"sk-label sk-toggleable\"><input class=\"sk-toggleable__control sk-hidden--visually\" id=\"sk-estimator-id-323\" type=\"checkbox\" ><label for=\"sk-estimator-id-323\" class=\"sk-toggleable__label sk-toggleable__label-arrow\">Pipeline</label><div class=\"sk-toggleable__content\"><pre>Pipeline(steps=[(&#x27;basic&#x27;,\n",
       "                 CountVectorizer(binary=True, max_features=1000,\n",
       "                                 stop_words=[&#x27;i&#x27;, &#x27;me&#x27;, &#x27;my&#x27;, &#x27;myself&#x27;, &#x27;we&#x27;,\n",
       "                                             &#x27;our&#x27;, &#x27;ours&#x27;, &#x27;ourselves&#x27;, &#x27;you&#x27;,\n",
       "                                             &quot;you&#x27;re&quot;, &quot;you&#x27;ve&quot;, &quot;you&#x27;ll&quot;,\n",
       "                                             &quot;you&#x27;d&quot;, &#x27;your&#x27;, &#x27;yours&#x27;,\n",
       "                                             &#x27;yourself&#x27;, &#x27;yourselves&#x27;, &#x27;he&#x27;,\n",
       "                                             &#x27;him&#x27;, &#x27;his&#x27;, &#x27;himself&#x27;, &#x27;she&#x27;,\n",
       "                                             &quot;she&#x27;s&quot;, &#x27;her&#x27;, &#x27;hers&#x27;, &#x27;herself&#x27;,\n",
       "                                             &#x27;it&#x27;, &quot;it&#x27;s&quot;, &#x27;its&#x27;, &#x27;itself&#x27;, ...],\n",
       "                                 tokenizer=&lt;function baseline_tokenizer at 0x000001B94E4B93A0&gt;)),\n",
       "                (&#x27;rf_clf&#x27;,\n",
       "                 ThresholdAdjuster(base_estimator=RandomForestClassifier(n_estimators=1000,\n",
       "                                                                         random_state=42),\n",
       "                                   max_fpr=0.01))])</pre></div></div></div><div class=\"sk-serial\"><div class=\"sk-item\"><div class=\"sk-estimator sk-toggleable\"><input class=\"sk-toggleable__control sk-hidden--visually\" id=\"sk-estimator-id-324\" type=\"checkbox\" ><label for=\"sk-estimator-id-324\" class=\"sk-toggleable__label sk-toggleable__label-arrow\">CountVectorizer</label><div class=\"sk-toggleable__content\"><pre>CountVectorizer(binary=True, max_features=1000,\n",
       "                stop_words=[&#x27;i&#x27;, &#x27;me&#x27;, &#x27;my&#x27;, &#x27;myself&#x27;, &#x27;we&#x27;, &#x27;our&#x27;, &#x27;ours&#x27;,\n",
       "                            &#x27;ourselves&#x27;, &#x27;you&#x27;, &quot;you&#x27;re&quot;, &quot;you&#x27;ve&quot;, &quot;you&#x27;ll&quot;,\n",
       "                            &quot;you&#x27;d&quot;, &#x27;your&#x27;, &#x27;yours&#x27;, &#x27;yourself&#x27;, &#x27;yourselves&#x27;,\n",
       "                            &#x27;he&#x27;, &#x27;him&#x27;, &#x27;his&#x27;, &#x27;himself&#x27;, &#x27;she&#x27;, &quot;she&#x27;s&quot;,\n",
       "                            &#x27;her&#x27;, &#x27;hers&#x27;, &#x27;herself&#x27;, &#x27;it&#x27;, &quot;it&#x27;s&quot;, &#x27;its&#x27;,\n",
       "                            &#x27;itself&#x27;, ...],\n",
       "                tokenizer=&lt;function baseline_tokenizer at 0x000001B94E4B93A0&gt;)</pre></div></div></div><div class=\"sk-item sk-dashed-wrapped\"><div class=\"sk-label-container\"><div class=\"sk-label sk-toggleable\"><input class=\"sk-toggleable__control sk-hidden--visually\" id=\"sk-estimator-id-325\" type=\"checkbox\" ><label for=\"sk-estimator-id-325\" class=\"sk-toggleable__label sk-toggleable__label-arrow\">rf_clf: ThresholdAdjuster</label><div class=\"sk-toggleable__content\"><pre>ThresholdAdjuster(base_estimator=RandomForestClassifier(n_estimators=1000,\n",
       "                                                        random_state=42),\n",
       "                  max_fpr=0.01)</pre></div></div></div><div class=\"sk-parallel\"><div class=\"sk-parallel-item\"><div class=\"sk-item\"><div class=\"sk-label-container\"><div class=\"sk-label sk-toggleable\"><input class=\"sk-toggleable__control sk-hidden--visually\" id=\"sk-estimator-id-326\" type=\"checkbox\" ><label for=\"sk-estimator-id-326\" class=\"sk-toggleable__label sk-toggleable__label-arrow\">base_estimator: RandomForestClassifier</label><div class=\"sk-toggleable__content\"><pre>RandomForestClassifier(n_estimators=1000, random_state=42)</pre></div></div></div><div class=\"sk-serial\"><div class=\"sk-item\"><div class=\"sk-estimator sk-toggleable\"><input class=\"sk-toggleable__control sk-hidden--visually\" id=\"sk-estimator-id-327\" type=\"checkbox\" ><label for=\"sk-estimator-id-327\" class=\"sk-toggleable__label sk-toggleable__label-arrow\">RandomForestClassifier</label><div class=\"sk-toggleable__content\"><pre>RandomForestClassifier(n_estimators=1000, random_state=42)</pre></div></div></div></div></div></div></div></div></div></div></div></div>"
      ],
      "text/plain": [
       "Pipeline(steps=[('basic',\n",
       "                 CountVectorizer(binary=True, max_features=1000,\n",
       "                                 stop_words=['i', 'me', 'my', 'myself', 'we',\n",
       "                                             'our', 'ours', 'ourselves', 'you',\n",
       "                                             \"you're\", \"you've\", \"you'll\",\n",
       "                                             \"you'd\", 'your', 'yours',\n",
       "                                             'yourself', 'yourselves', 'he',\n",
       "                                             'him', 'his', 'himself', 'she',\n",
       "                                             \"she's\", 'her', 'hers', 'herself',\n",
       "                                             'it', \"it's\", 'its', 'itself', ...],\n",
       "                                 tokenizer=<function baseline_tokenizer at 0x000001B94E4B93A0>)),\n",
       "                ('rf_clf',\n",
       "                 ThresholdAdjuster(base_estimator=RandomForestClassifier(n_estimators=1000,\n",
       "                                                                         random_state=42),\n",
       "                                   max_fpr=0.01))])"
      ]
     },
     "execution_count": 385,
     "metadata": {},
     "output_type": "execute_result"
    }
   ],
   "source": [
    "# Create the ComplementNB model pipeline step tuple\n",
    "rf_clf = RandomForestClassifier(n_estimators=1000, random_state=42)\n",
    "\n",
    "step_rf_clf = ('rf_clf', ThresholdAdjuster(rf_clf, \n",
    "                                            max_fpr=0.01))\n",
    "\n",
    "# Create and fit the pipeline for the baseline model\n",
    "pipe_rf_clf_basic = Pipeline([step_basic_vec, step_rf_clf])\n",
    "\n",
    "pipe_rf_clf_basic.fit(X_train, y_train)"
   ]
  },
  {
   "cell_type": "code",
   "execution_count": 386,
   "metadata": {},
   "outputs": [
    {
     "name": "stdout",
     "output_type": "stream",
     "text": [
      "Threshold: 0.397, FPR: 0.009\n",
      "Threshold: 0.437, FPR: 0.010\n",
      "Threshold: 0.426, FPR: 0.009\n",
      "Threshold: 0.458, FPR: 0.010\n",
      "Threshold: 0.398, FPR: 0.009\n",
      "Model: RandomForest Basic\n",
      "==================================================\n",
      "         Train Accuracy: 0.9617\n",
      "            CV Accuracy: 0.8871\n",
      "               Accuracy: 0.8864\n",
      "              Precision: 0.8483\n",
      "                 Recall: 0.7410\n",
      "                     F1: 0.7910\n",
      "                    AUC: 0.8434\n",
      "==================================================\n",
      "              precision    recall  f1-score   support\n",
      "\n",
      "           0       0.90      0.95      0.92       812\n",
      "           1       0.85      0.74      0.79       332\n",
      "\n",
      "    accuracy                           0.89      1144\n",
      "   macro avg       0.87      0.84      0.86      1144\n",
      "weighted avg       0.88      0.89      0.88      1144\n",
      "\n"
     ]
    },
    {
     "data": {
      "image/png": "[encoded data removed]",
      "text/plain": [
       "<Figure size 640x480 with 2 Axes>"
      ]
     },
     "metadata": {},
     "output_type": "display_data"
    }
   ],
   "source": [
    "# Display the results of the ComplementNB model\n",
    "display_results('RandomForest Basic', 'Email-Subject', pipe_rf_clf_basic, X_train, y_train, X_test, y_test)"
   ]
  },
  {
   "cell_type": "code",
   "execution_count": 380,
   "metadata": {},
   "outputs": [
    {
     "data": {
      "text/html": [
       "<div>\n",
       "<style scoped>\n",
       "    .dataframe tbody tr th:only-of-type {\n",
       "        vertical-align: middle;\n",
       "    }\n",
       "\n",
       "    .dataframe tbody tr th {\n",
       "        vertical-align: top;\n",
       "    }\n",
       "\n",
       "    .dataframe thead th {\n",
       "        text-align: right;\n",
       "    }\n",
       "</style>\n",
       "<table border=\"1\" class=\"dataframe\">\n",
       "  <thead>\n",
       "    <tr style=\"text-align: right;\">\n",
       "      <th></th>\n",
       "      <th>Data Set</th>\n",
       "      <th>Train Accuracy</th>\n",
       "      <th>CV Accuracy</th>\n",
       "      <th>Accuracy</th>\n",
       "      <th>Precision</th>\n",
       "      <th>Recall</th>\n",
       "      <th>F1</th>\n",
       "      <th>AUC</th>\n",
       "    </tr>\n",
       "  </thead>\n",
       "  <tbody>\n",
       "    <tr>\n",
       "      <th>Baseline Model (MultinomialNB)</th>\n",
       "      <td>Email-Subject</td>\n",
       "      <td>0.889764</td>\n",
       "      <td>0.862857</td>\n",
       "      <td>0.858392</td>\n",
       "      <td>0.920792</td>\n",
       "      <td>0.560241</td>\n",
       "      <td>0.696629</td>\n",
       "      <td>0.770268</td>\n",
       "    </tr>\n",
       "    <tr>\n",
       "      <th>ComplementNB Basic</th>\n",
       "      <td>Email-Subject</td>\n",
       "      <td>0.889764</td>\n",
       "      <td>0.863076</td>\n",
       "      <td>0.858392</td>\n",
       "      <td>0.920792</td>\n",
       "      <td>0.560241</td>\n",
       "      <td>0.696629</td>\n",
       "      <td>0.770268</td>\n",
       "    </tr>\n",
       "    <tr>\n",
       "      <th>RandomForest Basic</th>\n",
       "      <td>Email-Subject</td>\n",
       "      <td>0.961505</td>\n",
       "      <td>0.886701</td>\n",
       "      <td>0.882867</td>\n",
       "      <td>0.841379</td>\n",
       "      <td>0.73494</td>\n",
       "      <td>0.784566</td>\n",
       "      <td>0.839145</td>\n",
       "    </tr>\n",
       "  </tbody>\n",
       "</table>\n",
       "</div>"
      ],
      "text/plain": [
       "                                     Data Set Train Accuracy CV Accuracy  \\\n",
       "Baseline Model (MultinomialNB)  Email-Subject       0.889764    0.862857   \n",
       "ComplementNB Basic              Email-Subject       0.889764    0.863076   \n",
       "RandomForest Basic              Email-Subject       0.961505    0.886701   \n",
       "\n",
       "                                Accuracy Precision    Recall        F1  \\\n",
       "Baseline Model (MultinomialNB)  0.858392  0.920792  0.560241  0.696629   \n",
       "ComplementNB Basic              0.858392  0.920792  0.560241  0.696629   \n",
       "RandomForest Basic              0.882867  0.841379   0.73494  0.784566   \n",
       "\n",
       "                                     AUC  \n",
       "Baseline Model (MultinomialNB)  0.770268  \n",
       "ComplementNB Basic              0.770268  \n",
       "RandomForest Basic              0.839145  "
      ]
     },
     "execution_count": 380,
     "metadata": {},
     "output_type": "execute_result"
    }
   ],
   "source": [
    "display_results_df()"
   ]
  },
  {
   "cell_type": "markdown",
   "metadata": {},
   "source": [
    "ANALYSIS:\n",
    "- Even though it should do better with imbalanced classes, Complement NB did the same as the baseline model"
   ]
  }
 ],
 "metadata": {
  "kernelspec": {
   "display_name": "learn-env",
   "language": "python",
   "name": "python3"
  },
  "language_info": {
   "codemirror_mode": {
    "name": "ipython",
    "version": 3
   },
   "file_extension": ".py",
   "mimetype": "text/x-python",
   "name": "python",
   "nbconvert_exporter": "python",
   "pygments_lexer": "ipython3",
   "version": "3.8.1"
  }
 },
 "nbformat": 4,
 "nbformat_minor": 2
}
